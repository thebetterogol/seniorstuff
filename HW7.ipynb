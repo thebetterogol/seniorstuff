{
 "cells": [
  {
   "cell_type": "markdown",
   "metadata": {},
   "source": [
    "Before you turn this problem in, make sure everything runs as expected. First, **restart the kernel** (in the menubar, select Kernel$\\rightarrow$Restart) and then **run all cells** (in the menubar, select Cell$\\rightarrow$Run All).\n",
    "\n",
    "Make sure you fill in any place that says `YOUR CODE HERE` or \"YOUR ANSWER HERE\", as well as any collaborators you worked with:"
   ]
  },
  {
   "cell_type": "code",
   "execution_count": 1,
   "metadata": {},
   "outputs": [],
   "source": [
    "COLLABORATORS = \"Nicolette Auld-Griffith\""
   ]
  },
  {
   "cell_type": "markdown",
   "metadata": {},
   "source": [
    "---"
   ]
  },
  {
   "cell_type": "code",
   "execution_count": 23,
   "metadata": {},
   "outputs": [],
   "source": [
    "from __future__ import print_function\n",
    "%matplotlib inline\n",
    "%precision 16\n",
    "import numpy\n",
    "import matplotlib.pyplot as plt\n",
    "import time"
   ]
  },
  {
   "cell_type": "markdown",
   "metadata": {
    "deletable": false,
    "editable": false,
    "nbgrader": {
     "cell_type": "markdown",
     "checksum": "f62b3cb0afd2d6e2c63a54956a4d1185",
     "grade": false,
     "grade_id": "cell-6282430347078978",
     "locked": true,
     "schema_version": 3,
     "solution": false
    }
   },
   "source": [
    "# HW 7:  Intro to Linear Algebra\n",
    "\n"
   ]
  },
  {
   "cell_type": "markdown",
   "metadata": {
    "deletable": false,
    "editable": false,
    "nbgrader": {
     "cell_type": "markdown",
     "checksum": "945d8fe27832662b80abea0165c227d9",
     "grade": false,
     "grade_id": "cell-44c8b908984ef1e5",
     "locked": true,
     "schema_version": 3,
     "solution": false,
     "task": false
    }
   },
   "source": [
    "# Linear Algebra: Part 1"
   ]
  },
  {
   "cell_type": "markdown",
   "metadata": {
    "deletable": false,
    "editable": false,
    "nbgrader": {
     "cell_type": "markdown",
     "checksum": "375193d42fad3b5b058388a273373db3",
     "grade": false,
     "grade_id": "cell-5c00cac6658708b9",
     "locked": true,
     "schema_version": 3,
     "solution": false,
     "task": false
    }
   },
   "source": [
    "## Question 1: Matrix Norms and Condition Numbers\n",
    "\n",
    "Consider the Matrices\n",
    "\n",
    "$$\n",
    "    A = \\begin{bmatrix} 1 & 1 \\\\\n",
    "                        1 & a \\\\\n",
    "         \\end{bmatrix} \\quad\\quad\n",
    "     A^{-1} = \\frac{1}{a-1}\\begin{bmatrix} a & -1 \\\\\n",
    "                        -1 & 1 \\\\\n",
    "         \\end{bmatrix} \n",
    "$$\n",
    "where $a\\in\\mathbb{R}$"
   ]
  },
  {
   "cell_type": "markdown",
   "metadata": {
    "deletable": false,
    "editable": false,
    "nbgrader": {
     "cell_type": "markdown",
     "checksum": "9d7e1ac48fb1830efd68fa829c66546c",
     "grade": false,
     "grade_id": "cell-d8dd915976890ea8",
     "locked": true,
     "schema_version": 3,
     "solution": false,
     "task": false
    }
   },
   "source": [
    "**(a)** [6] Analytically calculate, as a function of $a$\n",
    "\n",
    "* the induced $p$-norm $||A||_p$ \n",
    "* the $p$ condition number $\\kappa_p(A) =||A||_p||A^{-1}||_p$ \n",
    "\n",
    "consider  $p=1,2,\\infty$\n",
    "\n",
    "(hint: for a symmetric matrix, the singular values are equal to the absolute value of the eigenvalues of $A$ (sorted from largest to smallest))"
   ]
  },
  {
   "cell_type": "markdown",
   "metadata": {
    "deletable": false,
    "nbgrader": {
     "cell_type": "markdown",
     "checksum": "310fd020c52ea030a0b60ce06ba7da93",
     "grade": true,
     "grade_id": "cell-d7fc247b7e748b9b",
     "locked": false,
     "points": 6,
     "schema_version": 3,
     "solution": true,
     "task": false
    }
   },
   "source": [
    "The induced $1$-norm $||A||_1$ and $\\infty$-norm $||A||_\\infty$ is the max of $2$ and $1 + |a|$\n",
    "\n",
    "The induced $2$-norm $||A||_2$ is the max of $|\\lambda_1| and |\\lambda_2|$ where $$\\lambda_1 = \\frac{-\\sqrt{a^2-2a+5}+a+1}{2}$$ and $$\\lambda_2 = \\frac{\\sqrt{a^2-2a+5}+a+1}{2}$$\n",
    "\n",
    "$\\kappa_1 (A)$ and $\\kappa_\\infty (A)$ is the max of $2$ and $1 + |a|$ multiplied by the max of $|\\frac{a+1}{a-1}|$ and $|\\frac{2}{a-1}|$.  \n",
    "\n",
    "$\\kappa_2 (A) =$ the max of $|\\lambda_1| and |\\lambda_2|$ multiplied by the max of $|\\lambda_3|$ and $|\\lambda_4|$ where $$\\lambda_3 = \\frac{-\\sqrt{a^2-2a+5}+a+1}{2(a-1)}$$ and $$\\lambda_4 = \\frac{\\sqrt{a^2-2a+5}+a+1}{2(a-1)}$$"
   ]
  },
  {
   "cell_type": "markdown",
   "metadata": {
    "deletable": false,
    "editable": false,
    "nbgrader": {
     "cell_type": "markdown",
     "checksum": "1231f4e7c5b03567326bfbde490b610f",
     "grade": false,
     "grade_id": "cell-939ff0252d09d20b",
     "locked": true,
     "schema_version": 3,
     "solution": false,
     "task": false
    }
   },
   "source": [
    "**(b)** [6] write two short python routine that returns $||A||_p$, and $\\kappa_p(A)$ for the matrices in part (a). Again, just consider $p=1,2,\\infty$) and raise a ValueError if $p$ is any other value."
   ]
  },
  {
   "cell_type": "code",
   "execution_count": 68,
   "metadata": {
    "deletable": false,
    "nbgrader": {
     "cell_type": "code",
     "checksum": "b5572b1eb7f3d61ed1735299ea664f30",
     "grade": false,
     "grade_id": "cell-c667be6cb51d494a",
     "locked": false,
     "schema_version": 3,
     "solution": true,
     "task": false
    }
   },
   "outputs": [],
   "source": [
    "def mypnorm(a, p ):\n",
    "    \"\"\"\n",
    "    return ||A||_p for A = [[ 1, 1],\n",
    "                            [ 1, a]]\n",
    "                            \n",
    "    for p=1, 2, or numpy.infty\n",
    "    \n",
    "    parameters:\n",
    "    -----------\n",
    "    \n",
    "    a: scalar \n",
    "        value of a\n",
    "    p: scalar\n",
    "        1, 2 or np.infty\n",
    "    returns:\n",
    "    --------\n",
    "    pnorm(a)\n",
    "    \n",
    "    raises:\n",
    "    --------\n",
    "    ValueError:  if p is not in [ 1, 2, numpy.infty]\n",
    "    \"\"\"\n",
    "    e1 = numpy.abs(0.5*(numpy.sqrt(a**2-2*a+5)+a+1))\n",
    "    e2= numpy.abs(0.5 *(-numpy.sqrt(a**2-2*a+5)+a+1))\n",
    "    \n",
    "    if p not in [1,2,numpy.infty]:\n",
    "        raise ValueError()\n",
    "    elif p==1 or p==numpy.infty:\n",
    "        return numpy.max([2, 1+abs(a)])\n",
    "    elif p==2: \n",
    "        return numpy.max([e1,e2])\n",
    "    \n",
    "    \n",
    "    \n",
    "        \n",
    "\n",
    "def mycond(a, p):\n",
    "    \"\"\"\n",
    "    write your own docstring to return the condition number\n",
    "    \"\"\"\n",
    "    e1 = numpy.abs(0.5*(numpy.sqrt(a**2-2*a+5)+a+1))\n",
    "    e2 = numpy.abs(0.5* (-numpy.sqrt(a**2-2*a+5)+a+1))\n",
    "    e3 = numpy.abs((-numpy.sqrt(a**2-2*a+5)+a+1) / (2*(a-1)))\n",
    "    e4 = numpy.abs((numpy.sqrt(a**2-2*a+5)+a+1)/ (2*(a-1)))\n",
    "\n",
    "    if p not in [1, 2, numpy.infty]:\n",
    "        raise ValueError()\n",
    "    elif p==1 or p==numpy.infty:\n",
    "        return numpy.max([2, 1 + abs(a)]) * numpy.max([abs(a/(a-1)) + 1/abs(a-1), abs(1/(a-1)) + 1/abs(a-1)])\n",
    "    elif p==2: \n",
    "        return (max(e1, e2)*max(e3, e4))\n",
    "          "
   ]
  },
  {
   "cell_type": "code",
   "execution_count": 69,
   "metadata": {
    "deletable": false,
    "editable": false,
    "nbgrader": {
     "cell_type": "code",
     "checksum": "602939281f7495713121358d809f1145",
     "grade": true,
     "grade_id": "cell-3006090e2e083282",
     "locked": true,
     "points": 6,
     "schema_version": 3,
     "solution": false,
     "task": false
    }
   },
   "outputs": [
    {
     "name": "stdout",
     "output_type": "stream",
     "text": [
      "||A||_1 = [3.0, 2.0, 2.0000999999999998, 3.0]\n",
      "||A||_2 = [2.302775637731995, 1.618033988749895, 2.00005000125, 2.618033988749895]\n",
      "||A||_inf = [3.0, 2.0, 2.0000999999999998, 3.0]\n",
      "Successful Norm test\n",
      "k(A)_1 = [3.0, 4.0, 40004.0001000044, 9.0]\n",
      "k(A)_2 = [1.7675918792439984, 2.618033988749895, 40002.00007500565, 6.854101966249685]\n",
      "k(A)_inf = [3.0, 4.0, 40004.0001000044, 9.0]\n",
      "Successful condition number test\n",
      "Success: you caught the ValueError\n"
     ]
    }
   ],
   "source": [
    "A = lambda a: numpy.array([ [ 1, 1], [1, a]])\n",
    "aa = numpy.array([ -2, 0, 1.0001, 2])\n",
    "\n",
    "\n",
    "for p in [ 1, 2, numpy.infty]:\n",
    "    normp = [ mypnorm(a, p) for a in aa]\n",
    "    test = [ numpy.linalg.norm(A(a), ord=p) for a in aa]    \n",
    "    print('||A||_{} = {}'.format(p, normp))\n",
    "    numpy.testing.assert_allclose(normp,test)\n",
    "print('Successful Norm test')\n",
    "\n",
    "for p in [ 1, 2, numpy.infty]:\n",
    "    condp = [ mycond(a, p) for a in aa]\n",
    "    test = [ numpy.linalg.cond(A(a), p) for a in aa]    \n",
    "    print('k(A)_{} = {}'.format(p, condp))\n",
    "    numpy.testing.assert_allclose(condp,test)\n",
    "print('Successful condition number test')\n",
    "\n",
    "# test the exception\n",
    "try:\n",
    "    mypnorm(0.,4)\n",
    "except ValueError as err:\n",
    "    print('Success: you caught the ValueError')\n",
    "else:\n",
    "    assert False, 'whoops, missed the exception'\n"
   ]
  },
  {
   "cell_type": "markdown",
   "metadata": {
    "deletable": false,
    "editable": false,
    "nbgrader": {
     "cell_type": "markdown",
     "checksum": "cf487ceb24463d0231424f53746b4c45",
     "grade": false,
     "grade_id": "cell-41eb679977efecde",
     "locked": true,
     "schema_version": 3,
     "solution": false,
     "task": false
    }
   },
   "source": [
    " **(c)** [4] Make a plot comparing $\\log(\\kappa(A))$ vs $a$ for the different matrix norms over the range $a\\in[-15,15]$. (you can check it by plotting `numpy.linalg.cond(A, ord)` as well. As always, make it pretty."
   ]
  },
  {
   "cell_type": "code",
   "execution_count": 73,
   "metadata": {
    "deletable": false,
    "nbgrader": {
     "cell_type": "code",
     "checksum": "eb7f103dadba8a5985a369568f9453a7",
     "grade": true,
     "grade_id": "cell-3545654a9ef25ac9",
     "locked": false,
     "points": 4,
     "schema_version": 3,
     "solution": true,
     "task": false
    }
   },
   "outputs": [
    {
     "name": "stderr",
     "output_type": "stream",
     "text": [
      "<ipython-input-73-363ff785905a>:25: MatplotlibDeprecationWarning: Adding an axes using the same arguments as a previous axes currently reuses the earlier instance.  In a future version, a new instance will always be created and returned.  Meanwhile, this warning can be suppressed, and the future behavior ensured, by passing a unique label to each axes instance.\n",
      "  axes = fig.add_subplot(1, 3, 2)\n"
     ]
    },
    {
     "data": {
      "text/plain": [
       "Text(0, 0.5, '$log(\\\\kappa(A))$')"
      ]
     },
     "execution_count": 73,
     "metadata": {},
     "output_type": "execute_result"
    },
    {
     "data": {
      "image/png": "[encoded data removed]",
      "text/plain": [
       "<Figure size 1440x360 with 3 Axes>"
      ]
     },
     "metadata": {
      "needs_background": "light"
     },
     "output_type": "display_data"
    }
   ],
   "source": [
    "a = [-15, -14, -13, -12, -11, -10, -9, -8, -7, -6, -5, -4, -3, -2, -1, 0, 2, 3, 4, 5, 6, 7, 8, 9, 10, 11, 12, 13, 14, 15]\n",
    "x = []\n",
    "y = [] \n",
    "z = [] \n",
    "\n",
    "fig = plt.figure(figsize =(20, 5))\n",
    "\n",
    "##1 Norm\n",
    "\n",
    "for i in a: \n",
    "    x.append(numpy.log(mycond(i, 1)))\n",
    "\n",
    "axes = fig.add_subplot(1, 3, 1)\n",
    "axes.plot(a, x, 'ro--')\n",
    "axes.grid()\n",
    "axes.set_title(\"1-Norm, $a$ vs $log(\\kappa(A))$\")\n",
    "axes.set_xlabel('$a$')\n",
    "axes.set_ylabel('$log(\\kappa(A))$')\n",
    "\n",
    "#Inf-Norm\n",
    "\n",
    "for i in a: \n",
    "    y.append(numpy.log(mycond(i, numpy.infty)))\n",
    "\n",
    "    axes = fig.add_subplot(1, 3, 2)\n",
    "axes.plot(a, x, 'bo-')\n",
    "axes.grid()\n",
    "axes.set_title(\"$\\infty$-Norm,, $a$ vs $log(\\kappa(A))$\")\n",
    "axes.set_xlabel('$a$')\n",
    "axes.set_ylabel('$log(\\kappa(A))$')\n",
    "\n",
    "#2-norm\n",
    "\n",
    "for i in a: \n",
    "    z.append(numpy.log(mycond(i,2)))\n",
    "\n",
    "axes = fig.add_subplot(1, 3, 3)\n",
    "axes.plot(a, x, 'o--')\n",
    "axes.grid()\n",
    "axes.set_title(\"2-Norm, $a$ vs $log(\\kappa(A))$\")\n",
    "axes.set_xlabel('$a$')\n",
    "axes.set_ylabel('$log(\\kappa(A))$')\n",
    "\n"
   ]
  },
  {
   "cell_type": "markdown",
   "metadata": {
    "deletable": false,
    "editable": false,
    "nbgrader": {
     "cell_type": "markdown",
     "checksum": "3ba7346b5a7a8060b1df2d22447c339c",
     "grade": false,
     "grade_id": "cell-5fb5d0bb6e0da5c2",
     "locked": true,
     "schema_version": 3,
     "solution": false,
     "task": false
    }
   },
   "source": [
    "**(d)** [8] Given your plot comment on the following:\n",
    "* What value of $a$ gives the best conditioned matrix.  Why?\n",
    "* What value of $a$ gives the least well-condition matrix.  Why?\n",
    "* Does it matter which norm we measure the condition number in?\n",
    "* What value of $a$ gives the best conditioned matrix for $a>1$\n",
    " "
   ]
  },
  {
   "cell_type": "markdown",
   "metadata": {
    "deletable": false,
    "nbgrader": {
     "cell_type": "markdown",
     "checksum": "ae0dc4e2df0adf7f87903c41c861f0ee",
     "grade": true,
     "grade_id": "cell-a89f6c416aee9453",
     "locked": false,
     "points": 8,
     "schema_version": 3,
     "solution": true,
     "task": false
    }
   },
   "source": [
    "$a = -1$ gives the best conditioned matrix because it results in the lowest value for $log(\\kappa(A))$.\n",
    "\n",
    "$a = 15$ gives the least well-conditioned matrix because it results in the greatest value for $log(\\kappa(A))$.\n",
    "\n",
    "Yes the norm matters when measuring the condition number since we get different values for $log(\\kappa(A))$ for different norms when $a$ is constant. \n",
    "\n",
    "$a = 3$ gives the best conditioned matrix for $a > 1$ because it results in the lowest value for $log(\\kappa(A))$ when $a > 1$."
   ]
  },
  {
   "cell_type": "markdown",
   "metadata": {
    "deletable": false,
    "editable": false,
    "nbgrader": {
     "cell_type": "markdown",
     "checksum": "182b150859e061266149ccce1cc29a18",
     "grade": false,
     "grade_id": "cell-d2fbff392abf8869",
     "locked": true,
     "schema_version": 3,
     "solution": false,
     "task": false
    }
   },
   "source": [
    "## Question 2: Conditioning and LU factorization\n",
    "\n",
    "Consider the two identical linear problems $A\\mathbf{x}=\\bf{b}$\n",
    "\n",
    "$$\n",
    "    \\begin{bmatrix} \\epsilon & 1 \\\\ 1 & 1 \\\\ \\end{bmatrix}\\mathbf{x}=\\begin{bmatrix} 1\\\\ 2\\end{bmatrix} \\quad\\quad\n",
    "     \\begin{bmatrix} 1 & 1 \\\\\\epsilon & 1 \\\\ \\end{bmatrix}\\mathbf{x}=\\begin{bmatrix} 2\\\\ 1\\end{bmatrix} \n",
    "$$\n",
    "where $\\epsilon \\ll \\epsilon_{mach}$"
   ]
  },
  {
   "cell_type": "markdown",
   "metadata": {
    "deletable": false,
    "editable": false,
    "nbgrader": {
     "cell_type": "markdown",
     "checksum": "348096f96c926a217a56d61a59bee46f",
     "grade": false,
     "grade_id": "cell-fe9f3bc24c4ad049",
     "locked": true,
     "schema_version": 3,
     "solution": false,
     "task": false
    }
   },
   "source": [
    "**(a)**  [6 pts] Find the 1 condition number of both matrices. Are they the same?  Are these matrices well conditioned? Check your answer using numpy with $\\epsilon = 0.1\\epsilon_{mach}$"
   ]
  },
  {
   "cell_type": "markdown",
   "metadata": {
    "deletable": false,
    "nbgrader": {
     "cell_type": "markdown",
     "checksum": "f0afa7a8b9179c7ba4fd7c7e8b3346be",
     "grade": true,
     "grade_id": "cell-2dc5b9cc6e893b84",
     "locked": false,
     "points": 4,
     "schema_version": 3,
     "solution": true,
     "task": false
    }
   },
   "source": [
    "Let $\\begin{bmatrix} \\epsilon & 1 \\\\ 1 & 1 \\\\ \\end{bmatrix} = A_1$ and $\\begin{bmatrix} 1 & 1 \\\\ \\epsilon & 1 \\\\ \\end{bmatrix} = A_2$.\n",
    "\n",
    "Then $A_{1}^{-1} = \\begin{bmatrix} \\frac{1}{\\epsilon - 1} & \\frac{-1}{\\epsilon - 1} \\\\ \\frac{-1}{\\epsilon - 1} & \\frac{\\epsilon}{\\epsilon - 1} \\\\ \\end{bmatrix}$ and $A_{2}^{-1} = \\begin{bmatrix} \\frac{1}{1 - \\epsilon} & \\frac{-1}{1 - \\epsilon} \\\\ \\frac{-\\epsilon}{1 - \\epsilon} & \\frac{1}{1 - \\epsilon} \\\\ \\end{bmatrix}$.\n",
    "\n",
    "The 1-norm of $A_1$ and $A_2$ is either $\\epsilon + 1$ or $1 + 1 = 2$ and since $2$ is our max, our 1-norm for both matrices is $2$. \n",
    "\n",
    "The 1-norm of $A_{1}^{-1}$ is either $|\\frac{1}{\\epsilon - 1}| + |-\\frac{1}{\\epsilon - 1}| = |\\frac{2}{\\epsilon - 1}|$ or $|-\\frac{1}{\\epsilon - 1}| + |\\frac{\\epsilon}{\\epsilon - 1}| = |\\frac{1 + \\epsilon}{\\epsilon - 1}|$. Since $|\\frac{2}{\\epsilon - 1}|$ is greater, this is our 1-norm. \n",
    "\n",
    "The 1-norm of $A_{2}^{-1}$ is either $|\\frac{1}{1 - \\epsilon}| + |-\\frac{1}{1 - \\epsilon}| = |\\frac{2}{1 - \\epsilon}|$ or $|-\\frac{\\epsilon}{1 - \\epsilon}| + |\\frac{1}{1 - \\epsilon}| = |\\frac{1 + \\epsilon}{1 - \\epsilon}|$. Since $|\\frac{2}{1 - \\epsilon}|$ is greater, this is our 1-norm. \n",
    "\n",
    "To get our condition number we solve $||A|| \\cdot ||A^{-1}||$ so for $A_1$ we get, $$ 2 \\cdot |\\frac{2}{\\epsilon - 1}| = \\frac{4}{|\\epsilon - 1|} \\approx 4$$ and for $A_2$ we get $$ 2 \\cdot |\\frac{2}{1 - \\epsilon}| = \\frac{4}{|1 -\\epsilon|} \\approx 4$$\n",
    "\n",
    "These are the same and since they are small numbers, the matrices are well conditioned."
   ]
  },
  {
   "cell_type": "code",
   "execution_count": 65,
   "metadata": {
    "deletable": false,
    "nbgrader": {
     "cell_type": "code",
     "checksum": "9585c969563122ef5aa8b1d54cb9e8f5",
     "grade": true,
     "grade_id": "cell-224f9ba2c164bdf8",
     "locked": false,
     "points": 2,
     "schema_version": 3,
     "solution": true,
     "task": false
    }
   },
   "outputs": [
    {
     "name": "stdout",
     "output_type": "stream",
     "text": [
      "success, both are equal\n"
     ]
    }
   ],
   "source": [
    "e_var = 0.1 * numpy.finfo(float).eps\n",
    "\n",
    "A1 = numpy.array([[e_var, 1.], [1., 1.]])\n",
    "A2 = numpy.array([[1., 1.], [e_var, 1.]])\n",
    "A3= numpy.linalg.inv(A1)\n",
    "A4 = numpy.linalg.inv(A2)\n",
    "\n",
    "norm_A1 = numpy.linalg.norm(A1, ord = 1)\n",
    "norm_A2 = numpy.linalg.norm(A2, ord = 1) \n",
    "norm_A3 = numpy.linalg.norm(A3, ord = 1)\n",
    "norm_A4 = numpy.linalg.norm(A4, ord = 1)\n",
    "\n",
    "CondA1 = norm_A1*norm_A3\n",
    "\n",
    "CondA2 = norm_A2*norm_A4\n",
    "\n",
    "if CondA2 == CondA1:\n",
    "    print(\"success, both are equal\")\n",
    "\n",
    "\n",
    "\n",
    "    \n"
   ]
  },
  {
   "cell_type": "markdown",
   "metadata": {
    "deletable": false,
    "editable": false,
    "nbgrader": {
     "cell_type": "markdown",
     "checksum": "6ec5c7d683734869baf680996b03574d",
     "grade": false,
     "grade_id": "cell-d71ae1170916d998",
     "locked": true,
     "schema_version": 3,
     "solution": false,
     "task": false
    }
   },
   "source": [
    "**(b)**  [4 pts] Find the analytic solution to both problems in infinite precision.  Are they the same?"
   ]
  },
  {
   "cell_type": "markdown",
   "metadata": {
    "deletable": false,
    "nbgrader": {
     "cell_type": "markdown",
     "checksum": "f3734b2ddcc5c34065849726695ae7e1",
     "grade": true,
     "grade_id": "cell-9ec345823ebf7cf2",
     "locked": false,
     "points": 4,
     "schema_version": 3,
     "solution": true,
     "task": false
    }
   },
   "source": [
    "$x = A^{-1} b$\n",
    "\n",
    "$$x = \\frac{1}{\\epsilon - 1} \\begin{bmatrix} 1 & -1 \\\\ -1 & \\epsilon \\\\ \\end{bmatrix}\\begin{bmatrix} 1 \\\\ 2 \\\\ \\end{bmatrix} = \\frac{1}{\\epsilon - 1}\\begin{bmatrix} -1 \\\\ 2\\epsilon - 1 \\\\ \\end{bmatrix} = \\begin{bmatrix} \\frac{-1}{\\epsilon - 1} \\\\ \\frac{2\\epsilon - 1}{\\epsilon - 1}\\\\ \\end{bmatrix} = \\begin{bmatrix} \\frac{1}{1 - \\epsilon} \\\\ \\frac{2\\epsilon - 1}{\\epsilon - 1} \\\\ \\end{bmatrix}$$\n",
    "\n",
    "$$x = \\frac{1}{1 - \\epsilon} \\begin{bmatrix} 1 & -1 \\\\ -\\epsilon & 1 \\\\ \\end{bmatrix} \\begin{bmatrix} 2 \\\\ 1 \\\\ \\end{bmatrix} = \\frac{1}{1 - \\epsilon} \\begin{bmatrix} 1 \\\\ 1 - 2\\epsilon \\\\ \\end{bmatrix} = \\begin{bmatrix} \\frac{1}{1 - \\epsilon} \\\\ \\frac{1 - 2\\epsilon}{1 - \\epsilon}\\\\ \\end{bmatrix} = \\begin{bmatrix} \\frac{1}{1 - \\epsilon} \\\\ \\frac{2\\epsilon - 1}{\\epsilon - 1} \\\\ \\end{bmatrix}$$\n",
    "\n",
    "These are the same."
   ]
  },
  {
   "cell_type": "markdown",
   "metadata": {},
   "source": [
    "**(c)**  [4 pts] Now solve both problems analytically using the $LU$ decomposition *without pivoting* but applying the rules of floating point math.  Do you get the same answer?  "
   ]
  },
  {
   "cell_type": "markdown",
   "metadata": {},
   "source": [
    "the $LU$ decomposition of  \n",
    "$$ A_1 =  \\begin{bmatrix} \\epsilon & 1 \\\\ 1 & 1 \\\\ \\end{bmatrix}$$\n",
    "is\n",
    "\n",
    "$$ A_1 =  \\begin{bmatrix} 1 & 0 \\\\ \\frac{1}{\\epsilon} & 1 \\\\ \\end{bmatrix}\n",
    "          \\begin{bmatrix} \\epsilon & 1 \\\\ 0  & 1 - \\frac{1}{\\epsilon} \\\\ \\end{bmatrix}\n",
    "$$\n",
    "\n",
    "and for \n",
    "$$ A_2 =  \\begin{bmatrix}  1 & 1 \\\\ \\epsilon & 1 \\\\ \\end{bmatrix}$$\n",
    "with $LU$ factorization\n",
    "\n",
    "$$ A_2 =  \\begin{bmatrix} 1 & 0 \\\\ \\epsilon & 1 \\\\ \\end{bmatrix}\n",
    "          \\begin{bmatrix} 1 & 1 \\\\ 0  & 1 - \\epsilon \\\\ \\end{bmatrix}\n",
    "$$\n",
    "\n",
    "Solving $L\\mathbf{c} = \\mathbf{b}$ then $U\\mathbf{x}=\\mathbf{c}$ \n",
    "\n",
    "for the first problem:\n",
    "\n",
    "$$\n",
    "    L_1\\mathbf{c_1} = \\begin{bmatrix} 1\\\\2\\\\\\end{bmatrix}\n",
    "$$\n",
    "\n",
    "or \n",
    "$$\n",
    "\\mathbf{c_1} = \\begin{bmatrix} 1. \\\\ 2 - 1./\\epsilon \\\\ \\end{bmatrix} \\approx \\begin{bmatrix} 1. \\\\  -1./\\epsilon \\\\ \\end{bmatrix}\n",
    "$$\n",
    "in finite precision...Likewise $U_1$ in finite precisions solve\n",
    "$$\n",
    "    \\begin{bmatrix} \\epsilon & 1 \\\\ 0  & - \\frac{1}{\\epsilon} \\\\ \\end{bmatrix}\\mathbf{x_1} = \\begin{bmatrix} 1. \\\\  -\\frac{1}{\\epsilon} \\\\ \\end{bmatrix}\n",
    "$$ \n",
    "gives\n",
    "$$\n",
    "    \\mathbf{x_1} = \\begin{bmatrix} 0.\\\\ 1 \\\\ \\end{bmatrix} \n",
    "$$\n",
    "\n",
    "The other problem gives \n",
    "\n",
    "$$\\mathbf{c_2} = \\begin{bmatrix} 2 \\\\ 1 -2\\epsilon \\\\ \\end{bmatrix}\\approx\\begin{bmatrix} 2 \\\\ 1 \\\\ \\end{bmatrix}\n",
    "$$\n",
    "\n",
    "and\n",
    "\n",
    "$$\\mathbf{x_2} = \\begin{bmatrix} 1 \\\\ 1\\\\ \\end{bmatrix}\n",
    "$$\n",
    "which is different"
   ]
  },
  {
   "cell_type": "markdown",
   "metadata": {
    "deletable": false,
    "editable": false,
    "nbgrader": {
     "cell_type": "markdown",
     "checksum": "a7618c89843f8c4e4e6e3a2bca64446c",
     "grade": false,
     "grade_id": "cell-b8a0da20128bddae",
     "locked": true,
     "schema_version": 3,
     "solution": false,
     "task": false
    }
   },
   "source": [
    "**(d)**  [6 pts] Check your solutions using numpy.  \n",
    "\n",
    "For each problem \n",
    "* Calculate the solution using $L\\mathbf{c}=\\mathbf{b}$, $U\\mathbf{x}=\\mathbf{c}$ for each pair of $L,U$ derived above (you can use numpy here with $\\epsilon=0.1\\epsilon_{mach}$)\n",
    "* Calculate the 1-condition number for each $L$ and $U$ \n",
    "\n",
    "Briefly explain these results\n"
   ]
  },
  {
   "cell_type": "code",
   "execution_count": 66,
   "metadata": {
    "deletable": false,
    "nbgrader": {
     "cell_type": "code",
     "checksum": "344ff4ea570762b143d206c2c8a234d1",
     "grade": true,
     "grade_id": "cell-4da8bf6a9034a983",
     "locked": false,
     "points": 4,
     "schema_version": 3,
     "solution": true,
     "task": false
    }
   },
   "outputs": [
    {
     "name": "stdout",
     "output_type": "stream",
     "text": [
      "[[ 1.000000000000000e+00]\n",
      " [-4.503599627370496e+16]]\n",
      "[[0.]\n",
      " [1.]]\n",
      "[[ 2.000000000000000e+00]\n",
      " [-9.007199254740992e+16]]\n",
      "[[1.]\n",
      " [1.]]\n",
      "2.028240960365167e+33\n",
      "2.028240960365167e+33\n",
      "1.0\n",
      "4.0\n"
     ]
    }
   ],
   "source": [
    "e_var = 0.1 * numpy.finfo(float).eps\n",
    "\n",
    "b1 = numpy.array([[1], [2]])\n",
    "b2 = numpy.array([[2.], [1.]])\n",
    "\n",
    "L1 = numpy.array([[1, 0], [1/(e_var), 1]])\n",
    "U1 = numpy.array([[e_var, 1], [0, 1 - (1/e_var)]])\n",
    "\n",
    "\n",
    "L2 = numpy.array([[1, 0], [e_var, 1]])\n",
    "U2 = numpy.array([[1, 1], [0., 1 - e_var]])\n",
    "\n",
    "L1_inv = numpy.linalg.inv(L1)\n",
    "L2_inv = numpy.linalg.inv(L2)\n",
    "\n",
    "U1_inv = numpy.linalg.inv(U1)\n",
    "U2_inv = numpy.linalg.inv(U2)\n",
    "\n",
    "c1 = L1_inv @b1\n",
    "x1 = U1_inv@c1\n",
    "\n",
    "c2 = L1_inv @b2\n",
    "x2 = U2_inv @ b2\n",
    "\n",
    "\n",
    "print(c1)\n",
    "print(x1)\n",
    "print(c2)\n",
    "print(x2)\n",
    "L1_norm = numpy.linalg.norm(L1, ord = 1)\n",
    "U1_norm = numpy.linalg.norm(U1, ord = 1)\n",
    "L2_norm = numpy.linalg.norm(L2, ord = 1)\n",
    "U2_norm = numpy.linalg.norm(U2, ord = 1)\n",
    "L1inv_norm = numpy.linalg.norm(L1_inv, ord = 1)\n",
    "U1inv_norm = numpy.linalg.norm(U1_inv, ord = 1)\n",
    "L2inv_norm = numpy.linalg.norm(L2_inv, ord = 1)\n",
    "U2inv_norm = numpy.linalg.norm(U2_inv, ord = 1)\n",
    "\n",
    "L1_cond = L1_norm * L1inv_norm\n",
    "U1_cond = U1_norm * U1inv_norm\n",
    "L2_cond = L2_norm * L2inv_norm\n",
    "U2_cond = U2_norm * U2inv_norm\n",
    "\n",
    "print(L1_cond)\n",
    "print(U1_cond)\n",
    "print(L2_cond)\n",
    "print(U2_cond)\n"
   ]
  },
  {
   "cell_type": "markdown",
   "metadata": {
    "deletable": false,
    "nbgrader": {
     "cell_type": "markdown",
     "checksum": "a21c7eb1ed94668b06afc91276dbe974",
     "grade": true,
     "grade_id": "cell-dd5a0aeb1c479324",
     "locked": false,
     "points": 2,
     "schema_version": 3,
     "solution": true,
     "task": false
    }
   },
   "source": [
    "The calculation using numpy matches the analytical solution that I got above. The condition number for L i"
   ]
  }
 ],
 "metadata": {
  "kernelspec": {
   "display_name": "Python 3",
   "language": "python",
   "name": "python3"
  },
  "language_info": {
   "codemirror_mode": {
    "name": "ipython",
    "version": 3
   },
   "file_extension": ".py",
   "mimetype": "text/x-python",
   "name": "python",
   "nbconvert_exporter": "python",
   "pygments_lexer": "ipython3",
   "version": "3.8.8"
  },
  "latex_envs": {
   "bibliofile": "biblio.bib",
   "cite_by": "apalike",
   "current_citInitial": 1,
   "eqLabelWithNumbers": true,
   "eqNumInitial": 0
  }
 },
 "nbformat": 4,
 "nbformat_minor": 4
}
