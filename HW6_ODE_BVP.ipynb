{
 "cells": [
  {
   "cell_type": "markdown",
   "metadata": {},
   "source": [
    "Before you turn this problem in, make sure everything runs as expected. First, **restart the kernel** (in the menubar, select Kernel$\\rightarrow$Restart) and then **run all cells** (in the menubar, select Cell$\\rightarrow$Run All).\n",
    "\n",
    "Make sure you fill in any place that says `YOUR CODE HERE` or \"YOUR ANSWER HERE\", as well as any collaborators you worked with:"
   ]
  },
  {
   "cell_type": "code",
   "execution_count": null,
   "metadata": {},
   "outputs": [],
   "source": [
    "COLLABORATORS = \"Nicolette Auld-Griffith, Kate McGrath, Reuben Solnick\""
   ]
  },
  {
   "cell_type": "markdown",
   "metadata": {},
   "source": [
    "---"
   ]
  },
  {
   "cell_type": "code",
   "execution_count": 3,
   "metadata": {},
   "outputs": [],
   "source": [
    "from __future__ import print_function\n",
    "%matplotlib inline\n",
    "%precision 16\n",
    "import numpy as numpy\n",
    "import matplotlib.pyplot as plt\n",
    "from scipy.integrate import solve_ivp"
   ]
  },
  {
   "cell_type": "markdown",
   "metadata": {
    "deletable": false,
    "editable": false,
    "nbgrader": {
     "cell_type": "markdown",
     "checksum": "fbe5d3559b16bc51c3a877d03b1c03a3",
     "grade": false,
     "grade_id": "cell-6282430347078978",
     "locked": true,
     "schema_version": 3,
     "solution": false
    }
   },
   "source": [
    "# HW 6:  ODE Methods - Boundary Value Problems\n",
    "\n",
    "This homework will combine a lot of previous codes to solve simple linear and non-linear Boundary value problems\n",
    "\n",
    "This problem set has two questions"
   ]
  },
  {
   "cell_type": "markdown",
   "metadata": {
    "deletable": false,
    "editable": false,
    "nbgrader": {
     "cell_type": "markdown",
     "checksum": "f5d65d046b5e97039def75327a92f976",
     "grade": false,
     "grade_id": "cell-97c426ce43130f77",
     "locked": true,
     "schema_version": 3,
     "solution": false,
     "task": false
    }
   },
   "source": [
    "## Question 1 - A linear ODE BVP\n",
    "\n",
    "Consider the *linear* non-homogeneous 2-pt boundary value problem\n",
    "\n",
    "$$\n",
    "    u^{\\prime\\prime}+ u = \\sin3x\\quad\\quad x\\in[0,L],\\quad u(0)=u(L)=0\n",
    "$$\n",
    "\n",
    "which is related to the modes of vibration of a forced string of length $L$."
   ]
  },
  {
   "cell_type": "markdown",
   "metadata": {
    "deletable": false,
    "editable": false,
    "nbgrader": {
     "cell_type": "markdown",
     "checksum": "1b49e1dd9947cd6b6f2ab235740d8bbd",
     "grade": false,
     "grade_id": "cell-d57d5cccd5fe437a",
     "locked": true,
     "schema_version": 3,
     "solution": false,
     "task": false
    }
   },
   "source": [
    "**(a)** [6] Find an analytic solution to this problem for general $L$ (hint:\n",
    "  remember your basic ODE's for constant-coefficient problems).  Is\n",
    "  this solution unique?"
   ]
  },
  {
   "cell_type": "markdown",
   "metadata": {
    "deletable": false,
    "hide_input": true,
    "nbgrader": {
     "cell_type": "markdown",
     "checksum": "8fe0a03958de833b2da0d36686cf19de",
     "grade": true,
     "grade_id": "cell-78f1cbd4419916a6",
     "locked": false,
     "points": 6,
     "schema_version": 3,
     "solution": true,
     "task": false
    }
   },
   "source": [
    " First we solve $$ u^{\\prime \\prime}(x) + u(x) = 0$$\n",
    "\n",
    "Characteristic polynomial: $r^2 + 1$\n",
    "\n",
    "Roots: $r_1 = i, r_2 = -i$\n",
    "\n",
    "So our general complex solution is $$u(x) = c_1 e^{i x} + c_2 e^{-i x}$$ and our general real solution is $$u(x) = d_1 cos(x) + d_2 sin(x)$$ where $c_{1,2}$ are complex constants  and $d_{1,2}$ are real constants. \n",
    "\n",
    "\n",
    "For our particular solution, since we have $sin(3x)$, we can let $$P(x) = A cos (3x) + B sin(3x).$$ $$P^\\prime(x) = -3A sin (3x) + 3B cos(3x)$$ $$P^{\\prime \\prime}(x) = -9A cos (3x) - 9B sin (3x).$$\n",
    "\n",
    "Substituting into the original equation, we get $$ -9A cos (3x) - 9B sin (3x) + A cos (3x) + B sin(3x) = sin(3x) \\Rightarrow -8A cos (3x) - 8B sin (3x) = sin(3x)$$ from which we get $A = 0$ and $B = -\\frac{1}{8}$.\n",
    "\n",
    "Thus our particular solution is $P(x) = -\\frac{1}{8} sin(3x)$ and our final solution will take the form of $$u(x) = d_1 cos(x) + d_2 sin(x) -\\frac{1}{8} sin(3x). $$\n",
    "\n",
    "Finally, using our boundaries we see that when $u(0) = 0$, $$u(x) = d_1 cos(x) + d_2 sin(x) -\\frac{1}{8} sin(3x) = 0 \\Rightarrow d_1 = 0$$\n",
    "\n",
    "and when $u(L) = 0$, $$u(L) = d_1 cos(L) + d_2 sin(L) -\\frac{1}{8} sin(3L) = 0 \\Rightarrow d_2 sin(L) -\\frac{1}{8} sin(3L) = 0 \\Rightarrow d_2 sin(L) = \\frac{1}{8} sin(3L) \\Rightarrow d_2 = \\frac{sin(3L)}{8 sin(L)}.$$\n",
    "\n",
    "Our solution is now $$u(x) = \\frac{sin(3L)}{8 sin(L)}sin(x) -\\frac{1}{8} sin(3x)$$\n",
    "\n",
    "All of the derivatives of the coefficients are unique, therefore we can say that this solution is unique."
   ]
  },
  {
   "cell_type": "markdown",
   "metadata": {
    "deletable": false,
    "editable": false,
    "nbgrader": {
     "cell_type": "markdown",
     "checksum": "c8cc410e3845d7486047d748f8119574",
     "grade": false,
     "grade_id": "cell-e7a7093e0a889a24",
     "locked": true,
     "schema_version": 3,
     "solution": false,
     "task": false
    }
   },
   "source": [
    "**(b)** [4]  create a function `u_true(x,L)` and plot your solution for $L=10$ evaluated on a regularly spaced set of points $\\mathbf{x}$"
   ]
  },
  {
   "cell_type": "code",
   "execution_count": 6,
   "metadata": {
    "deletable": false,
    "nbgrader": {
     "cell_type": "code",
     "checksum": "6f9429ac5a5c064215d8c3c4c99a902f",
     "grade": true,
     "grade_id": "cell-f8a9836fa0894e29",
     "locked": false,
     "points": 4,
     "schema_version": 3,
     "solution": true,
     "task": false
    }
   },
   "outputs": [
    {
     "data": {
      "image/png": "[encoded data removed]",
      "text/plain": [
       "<Figure size 1152x432 with 1 Axes>"
      ]
     },
     "metadata": {
      "needs_background": "light"
     },
     "output_type": "display_data"
    }
   ],
   "source": [
    "L = 10.\n",
    "N = 200\n",
    "x = numpy.linspace(0., L, N)\n",
    "\n",
    "a = 0.0 \n",
    "b = 10 \n",
    "u_a = 0.0\n",
    "u_b = 0.0\n",
    "u_true = lambda x: ((numpy.sin(3*L))/(8*numpy.sin(L)))*(numpy.sin(x))- ((1/8)*numpy.sin(3*x))\n",
    "f = lambda x: -numpy.sin(3*x) - u_true \n",
    "\n",
    "x_bc = numpy.linspace(a, b, N+2) \n",
    "x = x_bc[1:-1]\n",
    "#delta_x\n",
    "\n",
    "fig = plt.figure(figsize=(16,6))\n",
    "axes = fig.add_subplot(1,2,1)\n",
    "axes.plot(x_bc, u_true(x_bc), 'k', label = \"True\")\n",
    "axes.set_title(\"Solution to $u(x)$\")\n",
    "axes.set_xlabel(\"x\")\n",
    "axes.set_ylabel(\"y\")\n",
    "axes.grid()\n"
   ]
  },
  {
   "cell_type": "markdown",
   "metadata": {
    "deletable": false,
    "editable": false,
    "nbgrader": {
     "cell_type": "markdown",
     "checksum": "59b51ef2bb9b3df0d2ded9754a2cb4ff",
     "grade": false,
     "grade_id": "cell-28b8298c72a5a12c",
     "locked": true,
     "schema_version": 3,
     "solution": false,
     "task": false
    }
   },
   "source": [
    "**(b)** [8] Write a general shooting algorithm that combines the two scipy routines\n",
    "\n",
    "* scipy.integrate.solve_ivp\n",
    "* scipy.optimized.root_scalar\n",
    "\n",
    "and returns the solution evaluated at an evenly spaced set of points $\\mathbf{x}$.  \n",
    "\n",
    "Some hints\n",
    "\n",
    "* use `dense_output = True` in solve_ivp\n",
    "* you can introduce a second def within shoot_bvp for use in root_scalar\n",
    "\n",
    "For convenience (and testing), I've provided the interface introduced in class for a routine that can handle a range of boundary conditions and can control relative and absolute tolerance."
   ]
  },
  {
   "cell_type": "code",
   "execution_count": 1,
   "metadata": {
    "deletable": false,
    "nbgrader": {
     "cell_type": "code",
     "checksum": "3438c513390e7dd6a4438c83b2c292b9",
     "grade": false,
     "grade_id": "cell-0faef9786658c554",
     "locked": false,
     "schema_version": 3,
     "solution": true,
     "task": false
    }
   },
   "outputs": [
    {
     "ename": "SyntaxError",
     "evalue": "unexpected EOF while parsing (<ipython-input-1-05cc379d7e83>, line 103)",
     "output_type": "error",
     "traceback": [
      "\u001b[0;36m  File \u001b[0;32m\"<ipython-input-1-05cc379d7e83>\"\u001b[0;36m, line \u001b[0;32m103\u001b[0m\n\u001b[0;31m    \u001b[0m\n\u001b[0m    ^\u001b[0m\n\u001b[0;31mSyntaxError\u001b[0m\u001b[0;31m:\u001b[0m unexpected EOF while parsing\n"
     ]
    }
   ],
   "source": [
    "#  write a general shooting algorithm\n",
    "\n",
    "from scipy.integrate import solve_ivp\n",
    "from scipy.optimize import root_scalar\n",
    "\n",
    "def shoot_bvp(f, x, u_a, u_b, i_a, i_b, rtol=1.e-5, atol=1.e-9):\n",
    "    \"\"\"\n",
    "    Solve the two-point boundary value problem on the interval x\\in [a,b], using a shooting method that combines \n",
    "        scipy.integrate.solve_ivp and scipy.optimize.root_scalar and allows a range of boundary conditions\n",
    "        \n",
    "        \n",
    "    parameters:\n",
    "    -----------\n",
    "    f: calleable \n",
    "        vector value function for righthand side of the ODE with interface f(t,u). returns ndarray of length 2\n",
    "    x: numpy array\n",
    "        coordinates array for solution  on interval [a,b] with x[0] = a, x[-1] = b\n",
    "    u_a:  numpy array (length 2)\n",
    "        provide initial boundary conditions  [u, u' ] at x=a\n",
    "    u_b:  numpy array (length 2)\n",
    "        target boundary condition at x = b\n",
    "    i_a: integer\n",
    "        index of known boundary condition at x = a.  i.e.\n",
    "        if dirichlet conditions : i_a = 0 and u(a) is known  \n",
    "        if neumann conditions   : i_a = 1 and u'(a) is known\n",
    "        the complementary index is adjusted to match the boundary condition at b\n",
    "    i_b: integer\n",
    "        index of known boundary condition at x = b. i.e.\n",
    "        if dirichlet conditions : i_b = 0 and u(b) is known  \n",
    "        if neumann conditions   : i_b = 1 and u'(b) is known\n",
    "        the complementary index is ignored at b\n",
    "    rtol:  float\n",
    "        relative tolerance\n",
    "    atol:  float\n",
    "        absolute tolerance\n",
    "        \n",
    "    returns:\n",
    "    --------\n",
    "    u: solution u(x) for x (uses dense_output from solve_ivp to interpolate solution onto x)\n",
    "    \"\"\"\n",
    "\n",
    "'''u\n",
    "u_a = u(0) \n",
    "u_b = u(L)\n",
    "\n",
    "u(0) = u(L) = 0 \n",
    "f = []\n",
    "x = numpy.array[]'''\n",
    "\n",
    "\n",
    "\n",
    "a = x[0]\n",
    "b = x[-1]\n",
    "\n",
    "def udiff(x): \n",
    "    '''\n",
    "    Solves IVP using solve_ivp. Has adjustable IC u_var and returns the difference (which we want to go to zero) between sol.y[ib] - u_b[ib]\n",
    "\n",
    "'''\n",
    "    if ia == 0: \n",
    "        initial == [u_a[0], u_var]\n",
    "    elif ia == 1: \n",
    "        initial = [u_var, u_a[1]]\n",
    "    \n",
    "    sol= sol.solve_ivp(f, [a, b], initial, dense_output = True, rtol= rtol, atol = atol) \n",
    "    \n",
    "    return sol.sol(x)[0]\n",
    "        \n",
    "        \n",
    "        \n",
    "    \n",
    "\n"
   ]
  },
  {
   "cell_type": "markdown",
   "metadata": {
    "deletable": false,
    "editable": false,
    "nbgrader": {
     "cell_type": "markdown",
     "checksum": "609dee8359595fe3d603c4b8f69cef00",
     "grade": false,
     "grade_id": "cell-ac342e3055e81254",
     "locked": true,
     "schema_version": 3,
     "solution": false,
     "task": false
    }
   },
   "source": [
    "**(c)** [4] rewrite the original problem \n",
    "\n",
    "$$\n",
    "    u^{\\prime\\prime} + u = \\sin(3x)\n",
    "$$\n",
    "\n",
    "as a system of first order ODE's\n",
    "\n",
    "$$\n",
    "    \\frac{d\\mathbf{v}}{dx} = \\mathbf{f}(x,\\mathbf{v})\n",
    "$$  \n",
    "\n",
    "and solve using the interface\n",
    "\n",
    "`u_sol = shoot_bvp(f, x, u_a, u_b, i_a, i_b)`\n",
    "\n",
    "* make a plot comparing your shooting solution with the true solution."
   ]
  },
  {
   "cell_type": "code",
   "execution_count": null,
   "metadata": {
    "deletable": false,
    "nbgrader": {
     "cell_type": "code",
     "checksum": "f68c61daca6974c31c190d8332fb0308",
     "grade": true,
     "grade_id": "cell-ca6e0c8df676bf6b",
     "locked": false,
     "points": 4,
     "schema_version": 3,
     "solution": true,
     "task": false
    }
   },
   "outputs": [],
   "source": []
  },
  {
   "cell_type": "markdown",
   "metadata": {
    "deletable": false,
    "editable": false,
    "nbgrader": {
     "cell_type": "markdown",
     "checksum": "27e60582069c6f73b8f2f51d0df2992d",
     "grade": false,
     "grade_id": "cell-41ae76f60e3f99ae",
     "locked": true,
     "schema_version": 3,
     "solution": false,
     "task": false
    }
   },
   "source": [
    "The following cell tests your shooting code against the true solution.  Adjust the relative and absolute tolerances in shoot_bvp, to make sure the following test passes with relative error $<10^{-6}$"
   ]
  },
  {
   "cell_type": "code",
   "execution_count": null,
   "metadata": {
    "deletable": false,
    "editable": false,
    "nbgrader": {
     "cell_type": "code",
     "checksum": "f075b26db00cc6dcf50debbfa24c6957",
     "grade": true,
     "grade_id": "cell-b091d3210fd80d9e",
     "locked": true,
     "points": 8,
     "schema_version": 3,
     "solution": false,
     "task": false
    }
   },
   "outputs": [],
   "source": [
    "#  test the solution against the true solution and pass if relative error < 1.e-6\n",
    "\n",
    "rel_err = numpy.linalg.norm(u_sol - u_true(x,L))/numpy.linalg.norm(u_true(x,L))\n",
    "print('relative error = {}'.format(rel_err))\n",
    "\n",
    "assert(rel_err < 1.e-6)\n",
    "print('success')"
   ]
  },
  {
   "cell_type": "markdown",
   "metadata": {
    "deletable": false,
    "editable": false,
    "nbgrader": {
     "cell_type": "markdown",
     "checksum": "d1c7eaff21ee1e51bd6c45ff05f13ec8",
     "grade": false,
     "grade_id": "cell-7ec628ae6be5fcc2",
     "locked": true,
     "schema_version": 3,
     "solution": false,
     "task": false
    }
   },
   "source": [
    "**(d)** [8] Repeat the exercise but use the 2nd order finite difference methods introduced in class.  For convenience I have provided the routines for assembly of sparse 2nd derivative matrices and RHS from class.  "
   ]
  },
  {
   "cell_type": "code",
   "execution_count": 1,
   "metadata": {},
   "outputs": [
    {
     "ename": "NameError",
     "evalue": "name 'numpy' is not defined",
     "output_type": "error",
     "traceback": [
      "\u001b[0;31m---------------------------------------------------------------------------\u001b[0m",
      "\u001b[0;31mNameError\u001b[0m                                 Traceback (most recent call last)",
      "\u001b[0;32m<ipython-input-1-66f1088a16e8>\u001b[0m in \u001b[0;36m<module>\u001b[0;34m\u001b[0m\n\u001b[1;32m     63\u001b[0m \u001b[0ma\u001b[0m \u001b[0;34m=\u001b[0m \u001b[0;36m0.\u001b[0m\u001b[0;34m\u001b[0m\u001b[0;34m\u001b[0m\u001b[0m\n\u001b[1;32m     64\u001b[0m \u001b[0mb\u001b[0m \u001b[0;34m=\u001b[0m \u001b[0mL\u001b[0m\u001b[0;34m\u001b[0m\u001b[0;34m\u001b[0m\u001b[0m\n\u001b[0;32m---> 65\u001b[0;31m \u001b[0mx\u001b[0m \u001b[0;34m=\u001b[0m \u001b[0mnumpy\u001b[0m\u001b[0;34m.\u001b[0m\u001b[0mlinspace\u001b[0m\u001b[0;34m(\u001b[0m\u001b[0ma\u001b[0m\u001b[0;34m,\u001b[0m\u001b[0mb\u001b[0m\u001b[0;34m,\u001b[0m\u001b[0mN\u001b[0m\u001b[0;34m)\u001b[0m\u001b[0;34m\u001b[0m\u001b[0;34m\u001b[0m\u001b[0m\n\u001b[0m\u001b[1;32m     66\u001b[0m \u001b[0;31m# how to include the u part on rhs?\u001b[0m\u001b[0;34m\u001b[0m\u001b[0;34m\u001b[0m\u001b[0;34m\u001b[0m\u001b[0m\n\u001b[1;32m     67\u001b[0m \u001b[0mD\u001b[0m\u001b[0;34m=\u001b[0m \u001b[0mD2\u001b[0m\u001b[0;34m(\u001b[0m\u001b[0mx\u001b[0m\u001b[0;34m)\u001b[0m\u001b[0;34m\u001b[0m\u001b[0;34m\u001b[0m\u001b[0m\n",
      "\u001b[0;31mNameError\u001b[0m: name 'numpy' is not defined"
     ]
    }
   ],
   "source": [
    "# routines from class  for generating 2nd order sparse second derivative operator and RHS vector\n",
    "\n",
    "from fdcoeffV import fdcoeffV\n",
    "from scipy.sparse import lil_matrix, identity, spdiags\n",
    "from scipy.sparse.linalg import spsolve\n",
    "\n",
    "\n",
    "def D2(x,bcs=['dirichlet', 'dirichlet']):\n",
    "    \"\"\"  \n",
    "        Assemble a general sparse second-order finite-difference approximation to d/dx^2 on a possibly irregular mesh\n",
    "        First and last rows are set by string bcs\n",
    "        \n",
    "        parameters:\n",
    "        -----------\n",
    "        x: numpy.array\n",
    "            mesh coordinates\n",
    "        bcs: list of strings for boundary conditions e.g [left_string, right_string] where\n",
    "            the strings can be either 'dirichlet' or 'neumann'\n",
    "    \"\"\"\n",
    "    N = len(x)\n",
    "    A = lil_matrix((N,N))\n",
    "    if bcs[0] == 'dirichlet':\n",
    "        A[0,0] = 1.\n",
    "    elif bcs[0] == 'neumann':\n",
    "        A[0,0:3] = fdcoeffV(1,x[0],x[:3])\n",
    "    else:\n",
    "        raise ValueError('no known BC type for left boundary {}'.format(bcs[0]))\n",
    "        \n",
    "    if bcs[1] == 'dirichlet':\n",
    "        A[-1,-1] = 1.\n",
    "    elif bcs[1] == 'neumann':\n",
    "        A[-1,-3:] = fdcoeffV(1,x[-1],x[-3:])\n",
    "    else:\n",
    "        raise ValueError('no known BC type for right boundary {}'.format(bcs[1]))\n",
    "        \n",
    "    for i in range(1,N-1):\n",
    "        A[i, i-1:i+2] = fdcoeffV(2, x[i], x[i-1:i+2] )        \n",
    "    return A.tocsr()\n",
    "\n",
    "def RHS(x, f, bvalues):\n",
    "    \"\"\" Set the rhs vector\n",
    "    \n",
    "        parameters\n",
    "        ----------\n",
    "        x: numpy.array\n",
    "            mesh coordinates\n",
    "        f: callable\n",
    "            rhs function for interior points called on f(x[1:-2])\n",
    "        bvalues:  numpy.array (len 2)\n",
    "            values for boundary conditions (either dirichlet or neumann)        \n",
    "    \"\"\"\n",
    "    \n",
    "    N = len(x)\n",
    "    rhs = numpy.empty(N)\n",
    "    rhs[[0, N-1]] = bvalues\n",
    "    rhs[1:-1] = f(x[1:-1])\n",
    "    \n",
    "    return rhs\n",
    "\n",
    "\n",
    "L = 10.\n",
    "N = 100 \n",
    "a = 0. \n",
    "b = L \n",
    "x = numpy.linspace(a,b,N) \n",
    "# how to include the u part on rhs? \n",
    "D= D2(x)\n",
    "A = D + numpy.identity(D.size[0]) \n",
    "rhs_fun = lambda x: numpy.sin(3*x)\n",
    "f = RHS(x, rhs_fun, [0., 0.])\n",
    "\n",
    "u= spsolve(A,f) \n",
    "u_true = lambda x: ((numpy.sin(3*L))/(8*numpy.sin(3*L)))*(numpy.sin(x))- ((1/8)*numpy.sin(3*x))\n",
    "\n",
    "#plot result\n",
    "# Plot result\n",
    "fig = plt.figure(figsize=(16,6))\n",
    "axes = fig.add_subplot(1, 2, 1)\n",
    "axes.plot(x, u, 'o', label=\"Computed\")\n",
    "axes.plot(x, u_true(x), 'k', label=\"True\")\n",
    "axes.set_title(\"Solution to $u_{xx} = sin(3*x) - u(x)$\")\n",
    "axes.set_xlabel(\"x\")\n",
    "axes.set_ylabel(\"u(x)\")\n",
    "axes.grid()\n",
    "\n",
    "axes = fig.add_subplot(1, 2, 2)\n",
    "err = numpy.abs(u - u_true(x))\n",
    "axes.plot(x, err, 'ro-')\n",
    "axes.set_title(\"Absolute Error\")\n",
    "axes.set_xlabel('x')\n",
    "axes.set_ylabel('err')\n",
    "axes.grid()\n",
    "plt.show()\n",
    "\n",
    "\n",
    "\n",
    "    "
   ]
  },
  {
   "cell_type": "markdown",
   "metadata": {
    "deletable": false,
    "editable": false,
    "nbgrader": {
     "cell_type": "markdown",
     "checksum": "e809927a123befde771a8fc4ba8aae3a",
     "grade": false,
     "grade_id": "cell-ca2ebfc8a33b923b",
     "locked": true,
     "schema_version": 3,
     "solution": false,
     "task": false
    }
   },
   "source": [
    "Create a well-labeled convergence plot showing the relative error \n",
    "\n",
    "$$\n",
    "    e_{rel} = \\frac{|| u - u_{true} ||}{||u_{true}||}\n",
    "$$\n",
    "\n",
    "as a function of grid spacing $\\Delta x$\n",
    "\n",
    "This plot should calculate and show\n",
    "\n",
    "* rate of convergence of error (i.e. find $p$ such that $e_{rel}\\propto \\Delta x^p$)\n",
    "* an estimate of the  number of grid points $N$ required for the relative error to be $\\leq 10^{-6}$\n",
    "* the relative error at this smallest mesh spacing"
   ]
  },
  {
   "cell_type": "code",
   "execution_count": 40,
   "metadata": {
    "deletable": false,
    "nbgrader": {
     "cell_type": "code",
     "checksum": "13e0788b321186d7814f5c858e9069f7",
     "grade": true,
     "grade_id": "cell-7cd66462aa6317ed",
     "locked": false,
     "points": 8,
     "schema_version": 3,
     "solution": true,
     "task": false
    }
   },
   "outputs": [
    {
     "data": {
      "image/png": "[encoded data removed]",
      "text/plain": [
       "<Figure size 576x432 with 1 Axes>"
      ]
     },
     "metadata": {
      "needs_background": "light"
     },
     "output_type": "display_data"
    }
   ],
   "source": [
    "L = 10.\n",
    "u_true = lambda x: ((numpy.sin(3*L))/(8*numpy.sin(3*L)))*(numpy.sin(x))- ((1/8)*numpy.sin(3*x))\n",
    "\n",
    "N = [ 2**n for n in range(3,9) ]\n",
    "rel_err = numpy.empty(len(N))\n",
    "delta_x = numpy.empty(len(N))\n",
    "\n",
    "for i,n in enumerate(N):\n",
    "    x = numpy.linspace(a, b, n)\n",
    "    A = D2(x)\n",
    "    f = RHS(x, numpy.exp, [0., 3. ])\n",
    "    u = spsolve(A,f)\n",
    "    rel_err[i] = numpy.linalg.norm(u - u_true(x))/numpy.linalg.norm(u_true(x))\n",
    "    delta_x[i] = x[1] - x[0]\n",
    "    \n",
    "# calculate best fit slope and Plot result\n",
    "p = numpy.polyfit(numpy.log(delta_x),numpy.log(rel_err),1)\n",
    "dx = numpy.logspace(numpy.log10(delta_x[0]),numpy.log10(delta_x[-1]),100)\n",
    "err = numpy.exp(p[1])*dx**p[0]\n",
    "fig = plt.figure(figsize=(8,6))\n",
    "axes = fig.add_subplot(1, 1, 1)\n",
    "axes.loglog(delta_x, rel_err, 'o',label='error', markersize=10 )\n",
    "axes.loglog(dx,err,'r--',label=\"p={}\".format(p[0]))\n",
    "axes.set_title(\"Convergence\")\n",
    "axes.set_xlabel(\"$\\Delta x$\")\n",
    "axes.set_ylabel(\"$||u - u_{true}||/||u_{true}||$\")\n",
    "axes.legend(loc='best')\n",
    "axes.grid()\n"
   ]
  },
  {
   "cell_type": "markdown",
   "metadata": {
    "deletable": false,
    "editable": false,
    "nbgrader": {
     "cell_type": "markdown",
     "checksum": "1440d1fde90a7306e787735c1341406e",
     "grade": false,
     "grade_id": "cell-99a38b15c1ba164b",
     "locked": true,
     "schema_version": 3,
     "solution": false,
     "task": false
    }
   },
   "source": [
    "### Some themes and variations\n",
    "\n",
    "This is meant to be a short problem set, but there are many other things to try if you are interested.\n",
    "\n",
    "* Try this problem using Galerkin Finite Elements.  \n",
    "* Try modifying the matrices to use higher order Finite difference schemes (i.e. 4th order schemes)\n",
    "* Compare timing between Finite Difference and shooting schemes for the same order of accuracy\n"
   ]
  },
  {
   "cell_type": "markdown",
   "metadata": {
    "deletable": false,
    "editable": false,
    "nbgrader": {
     "cell_type": "markdown",
     "checksum": "81147ddd5a7cf767c359d403baa21f87",
     "grade": false,
     "grade_id": "cell-c54586fa263cc449",
     "locked": true,
     "schema_version": 3,
     "solution": false,
     "task": false
    }
   },
   "source": [
    "## Question 2 - Non-Linear Fun\n",
    "\n",
    "try to solve the related  **non-linear** 2-point boundary value problem\n",
    "\n",
    "$$\n",
    "u^{\\prime\\prime}+\\sin(u)=\\sin(3x),\\quad x\\in[0,10],\\quad u(0)=u(10)=0\n",
    "$$\n",
    "\n",
    "using  finite-difference plus Newton's method. For convenience, I've added the Newton Solver for sparse jacobians from the notes"
   ]
  },
  {
   "cell_type": "code",
   "execution_count": null,
   "metadata": {},
   "outputs": [],
   "source": [
    " \n",
    "\n",
    "# a Newton Solver for sparse matrices\n",
    "def newton(F,J,x0,tol=1.e-6,MAX_ITS=100,verbose=True):\n",
    "    \"\"\" Solve F(x) = 0 using Newton's method until ||F(x)|| < tol or reaches Max iterations\n",
    "    \n",
    "    Params:\n",
    "    -------\n",
    "        F: calleable: \n",
    "            Function returning residual F(x)\n",
    "        J: calleable\n",
    "            Function returning Jacobian J(x)\n",
    "        tol: float\n",
    "            stopping criteria for ||F|| < tol\n",
    "        MAX_ITS: integer\n",
    "            maximum number of iterations\n",
    "        verbose: bool\n",
    "            if true spits out norm of the residual at each iteration\n",
    "            \n",
    "    Returns:\n",
    "    --------\n",
    "        x: numpy.array\n",
    "            solution\n",
    "        k: int\n",
    "            number of iterations\n",
    "    \n",
    "    Raises:\n",
    "    -----------\n",
    "        ValueError if number of its exceeds MAX_ITS\n",
    "        \n",
    "    \"\"\"\n",
    "    \n",
    "    \n",
    "    x = x0 \n",
    "    for k in range(MAX_ITS+1):\n",
    "        res = numpy.linalg.norm(F(x))\n",
    "        if verbose:\n",
    "            print('k = {}, ||F|| = {}'.format(k,res))\n",
    "        if res < tol: \n",
    "            return x, k\n",
    "        delta = spsolve(J(x),-F(x))\n",
    "        x += delta\n",
    "        \n",
    "    raise ValueError('Maximum number of iterations exceeded {}'.format(MAX_ITS))"
   ]
  },
  {
   "cell_type": "markdown",
   "metadata": {
    "deletable": false,
    "editable": false,
    "nbgrader": {
     "cell_type": "markdown",
     "checksum": "06a0d4ab391c3a25323c9a92debaea77",
     "grade": false,
     "grade_id": "cell-dd9d7792263258d8",
     "locked": true,
     "schema_version": 3,
     "solution": false,
     "task": false
    }
   },
   "source": [
    "**(a)** [4 pt]  Solve the problem for an initial guess\n",
    "$u_0=0$. For this problem you will need to\n",
    "\n",
    "* create a function to return the residual $\\mathbf{F}(\\mathbf{u})$\n",
    "* create a function to return the Jacobian $J(\\mathbf{u})$\n",
    "* use `verbose=True` to see the convergence behavior of Newton\n",
    "* produce a plot showing the solution and labeled with the number of newton iterations and final residual norm $||\\mathbf{F}(\\mathbf{u})||$\n",
    "\n",
    "**Note:**  To choose a reasonable number of grid points, use your results from Question 1 and choose a mesh size such that the linear problem returns a relative error $< 10^{-3}$"
   ]
  },
  {
   "cell_type": "code",
   "execution_count": 37,
   "metadata": {
    "deletable": false,
    "nbgrader": {
     "cell_type": "code",
     "checksum": "666e215304384d9c7ecbb73ed299d1e4",
     "grade": true,
     "grade_id": "cell-1ca065b824f2cbb0",
     "locked": false,
     "points": 4,
     "schema_version": 3,
     "solution": true,
     "task": false
    }
   },
   "outputs": [
    {
     "name": "stdout",
     "output_type": "stream",
     "text": [
      "k = 0, ||F|| = 7.018234873694742\n",
      "k = 1, ||F|| = 0.028523832398621503\n",
      "k = 2, ||F|| = 0.0008117645335269754\n",
      "k = 3, ||F|| = 1.1013791773710535e-06\n",
      "k = 4, ||F|| = 2.1367025797473768e-12\n"
     ]
    },
    {
     "data": {
      "image/png": "[encoded data removed]",
      "text/plain": [
       "<Figure size 576x432 with 1 Axes>"
      ]
     },
     "metadata": {
      "needs_background": "light"
     },
     "output_type": "display_data"
    }
   ],
   "source": [
    "from fdcoeffV import fdcoeffV\n",
    "from scipy.sparse import lil_matrix, identity, spdiags\n",
    "from scipy.sparse.linalg import spsolve\n",
    "\n",
    "\n",
    "# a Newton Solver for sparse matrices\n",
    "def newton(F,J,x0,tol=1.e-6,MAX_ITS=100,verbose=True):\n",
    "    \"\"\" Solve F(x) = 0 using Newton's method until ||F(x)|| < tol or reaches Max iterations\n",
    "    \n",
    "    Params:\n",
    "    -------\n",
    "        F: calleable: \n",
    "            Function returning residual F(x)\n",
    "        J: calleable\n",
    "            Function returning Jacobian J(x)\n",
    "        tol: float\n",
    "            stopping criteria for ||F|| < tol\n",
    "        MAX_ITS: integer\n",
    "            maximum number of iterations\n",
    "        verbose: bool\n",
    "            if true spits out norm of the residual at each iteration\n",
    "            \n",
    "    Returns:\n",
    "    --------\n",
    "        x: list\n",
    "            list of points for each Newton iteration (just used for plotting intermediate results)\n",
    "            the solution is x[-1]\n",
    "    Raises:\n",
    "    -----------\n",
    "        ValueError if number of its exceeds MAX_ITS\n",
    "        \n",
    "    \"\"\"\n",
    "    x = [ x0 ]\n",
    "    for k in range(MAX_ITS+1):\n",
    "        xk = x[k]\n",
    "        res = numpy.linalg.norm(F(xk))\n",
    "        if verbose:\n",
    "            print('k = {}, ||F|| = {}'.format(k,res))\n",
    "        if res < tol: \n",
    "            return numpy.array(x), k\n",
    "        delta = spsolve(J(xk),-F(xk))\n",
    "        x.append( xk + delta)\n",
    "        \n",
    "        \n",
    "                \n",
    "    raise ValueError('Maximum number of iterations exceeded {}'.format(MAX_ITS))\n",
    "\n",
    "def D2(x,bcs=['dirichlet', 'dirichlet']):\n",
    "    \"\"\"  \n",
    "        Assemble a general sparse second-order finite-difference approximation to d/dx^2 on a possibly irregular mesh\n",
    "        First and last rows are set by string bcs\n",
    "        \n",
    "        parameters:\n",
    "        -----------\n",
    "        x: numpy.array\n",
    "            mesh coordinates\n",
    "        bcs: list of strings for boundary conditions e.g [left_string, right_string] where\n",
    "            the strings can be either 'dirichlet' or 'neumann'\n",
    "    \"\"\"\n",
    "    N = len(x)\n",
    "    A = lil_matrix((N,N))\n",
    "    if bcs[0] == 'dirichlet':\n",
    "        A[0,0] = 1.\n",
    "    elif bcs[0] == 'neumann':\n",
    "        A[0,0:3] = fdcoeffV(1,x[0],x[:3])\n",
    "    else:\n",
    "        raise ValueError('no known BC type for left boundary {}'.format(bcs[0]))\n",
    "        \n",
    "    if bcs[1] == 'dirichlet':\n",
    "        A[-1,-1] = 1.\n",
    "    elif bcs[1] == 'neumann':\n",
    "        A[-1,-3:] = fdcoeffV(1,x[-1],x[-3:])\n",
    "    else:\n",
    "        raise ValueError('no known BC type for right boundary {}'.format(bcs[1]))\n",
    "        \n",
    "    for i in range(1,N-1):\n",
    "        A[i, i-1:i+2] = fdcoeffV(2, x[i], x[i-1:i+2] )        \n",
    "    return A.tocsr()\n",
    "\n",
    "N = 100 \n",
    "x = numpy.linspace(0., 10., N)\n",
    "A = D2(x) \n",
    "\n",
    "#use notes and set dirichlet conditions\n",
    "def F(u): \n",
    "    f = A.dot(u) + numpy.sin(u) - numpy.sin(3*x)\n",
    "    #set residual go to zero \n",
    "    f[[0,-1]] = 0 \n",
    "    return f\n",
    "    \n",
    "    \n",
    "# set the Jacobian \n",
    "def J(u): \n",
    "    n = len(u) \n",
    "    return A + spdiags(numpy.cos(u),0, n, n) \n",
    "\n",
    "#initial guess use a straight line with correct boundary conditions \n",
    "\n",
    "u0 = numpy.linspace(0., 0., N)\n",
    "sol,its = newton(F,J,u0, verbose = True) \n",
    "\n",
    "plt.figure(figsize=(8,6))\n",
    "for k in range(its+1): \n",
    "    plt.plot(x, sol[k], label = '$k={}$'.format(k))\n",
    "axes.plot(x, sol[its], label = \"$F(u)$\")\n",
    "plt.grid()\n",
    "plt.legend(loc = 'best') \n",
    "plt.xlabel('x')\n",
    "plt.ylabel('u')\n",
    "plt.show()\n",
    "\n",
    "\n",
    "# du "
   ]
  },
  {
   "cell_type": "markdown",
   "metadata": {
    "deletable": false,
    "editable": false,
    "nbgrader": {
     "cell_type": "markdown",
     "checksum": "68a421cae08541a106a3f77786fd669c",
     "grade": false,
     "grade_id": "cell-273021c1878d0b00",
     "locked": true,
     "schema_version": 3,
     "solution": false,
     "task": false
    }
   },
   "source": [
    "**(b)**  Is your solution unique?  Try starting newton from different\n",
    "  periodic initial conditions \n",
    "  \n",
    "  $$\n",
    "      u_0(x) = \\sin\\left[\\frac{n\\pi x}{L}\\right]\n",
    "  $$ \n",
    "  \n",
    "  for $n\\in[0,6]$ that all satisfy the homogeneous boundary conditions. \n",
    "  \n",
    "  Make two plots. \n",
    "  \n",
    "  1. The first shows solutions for different values of $n$\n",
    "  1. The second plots the residual $\\mathbf{F}(\\mathbf{u})$ to show that at least the discrete ODE is satisfied\n",
    "  \n",
    " Welcome to the wonderful world of non-linear equations. Can you find any other solutions?"
   ]
  },
  {
   "cell_type": "code",
   "execution_count": 32,
   "metadata": {
    "deletable": false,
    "nbgrader": {
     "cell_type": "code",
     "checksum": "c22c044ae08789ed040f660d30f31df8",
     "grade": true,
     "grade_id": "cell-9c688399c72e251a",
     "locked": false,
     "points": 6,
     "schema_version": 3,
     "solution": true,
     "task": false
    }
   },
   "outputs": [
    {
     "name": "stdout",
     "output_type": "stream",
     "text": [
      "k = 0, ||F|| = 73.67253781084511\n"
     ]
    },
    {
     "ename": "ValueError",
     "evalue": "number of diagonals (100) does not match the number of offsets (1)",
     "output_type": "error",
     "traceback": [
      "\u001b[0;31m---------------------------------------------------------------------------\u001b[0m",
      "\u001b[0;31mValueError\u001b[0m                                Traceback (most recent call last)",
      "\u001b[0;32m<ipython-input-32-49066f071ec3>\u001b[0m in \u001b[0;36m<module>\u001b[0;34m\u001b[0m\n\u001b[1;32m     20\u001b[0m \u001b[0;34m\u001b[0m\u001b[0m\n\u001b[1;32m     21\u001b[0m \u001b[0mu0\u001b[0m \u001b[0;34m=\u001b[0m \u001b[0mnumpy\u001b[0m\u001b[0;34m.\u001b[0m\u001b[0mlinspace\u001b[0m\u001b[0;34m(\u001b[0m\u001b[0;36m0.\u001b[0m\u001b[0;34m,\u001b[0m \u001b[0mnumpy\u001b[0m\u001b[0;34m.\u001b[0m\u001b[0msin\u001b[0m\u001b[0;34m(\u001b[0m\u001b[0;34m(\u001b[0m\u001b[0mn\u001b[0m\u001b[0;34m*\u001b[0m\u001b[0mnumpy\u001b[0m\u001b[0;34m.\u001b[0m\u001b[0mpi\u001b[0m\u001b[0;34m*\u001b[0m\u001b[0mx\u001b[0m\u001b[0;34m)\u001b[0m\u001b[0;34m/\u001b[0m\u001b[0;36m10\u001b[0m\u001b[0;34m)\u001b[0m\u001b[0;34m,\u001b[0m \u001b[0mN\u001b[0m\u001b[0;34m)\u001b[0m\u001b[0;34m\u001b[0m\u001b[0;34m\u001b[0m\u001b[0m\n\u001b[0;32m---> 22\u001b[0;31m \u001b[0msol\u001b[0m\u001b[0;34m,\u001b[0m\u001b[0mits\u001b[0m \u001b[0;34m=\u001b[0m \u001b[0mnewton\u001b[0m\u001b[0;34m(\u001b[0m\u001b[0mF\u001b[0m\u001b[0;34m,\u001b[0m\u001b[0mJ\u001b[0m\u001b[0;34m,\u001b[0m\u001b[0mu0\u001b[0m\u001b[0;34m,\u001b[0m \u001b[0mverbose\u001b[0m \u001b[0;34m=\u001b[0m \u001b[0;32mTrue\u001b[0m\u001b[0;34m)\u001b[0m\u001b[0;34m\u001b[0m\u001b[0;34m\u001b[0m\u001b[0m\n\u001b[0m\u001b[1;32m     23\u001b[0m \u001b[0;34m\u001b[0m\u001b[0m\n\u001b[1;32m     24\u001b[0m \u001b[0mplt\u001b[0m\u001b[0;34m.\u001b[0m\u001b[0mfigure\u001b[0m\u001b[0;34m(\u001b[0m\u001b[0mfigsize\u001b[0m\u001b[0;34m=\u001b[0m\u001b[0;34m(\u001b[0m\u001b[0;36m8\u001b[0m\u001b[0;34m,\u001b[0m\u001b[0;36m6\u001b[0m\u001b[0;34m)\u001b[0m\u001b[0;34m)\u001b[0m\u001b[0;34m\u001b[0m\u001b[0;34m\u001b[0m\u001b[0m\n",
      "\u001b[0;32m<ipython-input-23-79ed5fea459c>\u001b[0m in \u001b[0;36mnewton\u001b[0;34m(F, J, x0, tol, MAX_ITS, verbose)\u001b[0m\n\u001b[1;32m     39\u001b[0m         \u001b[0;32mif\u001b[0m \u001b[0mres\u001b[0m \u001b[0;34m<\u001b[0m \u001b[0mtol\u001b[0m\u001b[0;34m:\u001b[0m\u001b[0;34m\u001b[0m\u001b[0;34m\u001b[0m\u001b[0m\n\u001b[1;32m     40\u001b[0m             \u001b[0;32mreturn\u001b[0m \u001b[0mnumpy\u001b[0m\u001b[0;34m.\u001b[0m\u001b[0marray\u001b[0m\u001b[0;34m(\u001b[0m\u001b[0mx\u001b[0m\u001b[0;34m)\u001b[0m\u001b[0;34m,\u001b[0m \u001b[0mk\u001b[0m\u001b[0;34m\u001b[0m\u001b[0;34m\u001b[0m\u001b[0m\n\u001b[0;32m---> 41\u001b[0;31m         \u001b[0mdelta\u001b[0m \u001b[0;34m=\u001b[0m \u001b[0mspsolve\u001b[0m\u001b[0;34m(\u001b[0m\u001b[0mJ\u001b[0m\u001b[0;34m(\u001b[0m\u001b[0mxk\u001b[0m\u001b[0;34m)\u001b[0m\u001b[0;34m,\u001b[0m\u001b[0;34m-\u001b[0m\u001b[0mF\u001b[0m\u001b[0;34m(\u001b[0m\u001b[0mxk\u001b[0m\u001b[0;34m)\u001b[0m\u001b[0;34m)\u001b[0m\u001b[0;34m\u001b[0m\u001b[0;34m\u001b[0m\u001b[0m\n\u001b[0m\u001b[1;32m     42\u001b[0m         \u001b[0mx\u001b[0m\u001b[0;34m.\u001b[0m\u001b[0mappend\u001b[0m\u001b[0;34m(\u001b[0m \u001b[0mxk\u001b[0m \u001b[0;34m+\u001b[0m \u001b[0mdelta\u001b[0m\u001b[0;34m)\u001b[0m\u001b[0;34m\u001b[0m\u001b[0;34m\u001b[0m\u001b[0m\n\u001b[1;32m     43\u001b[0m \u001b[0;34m\u001b[0m\u001b[0m\n",
      "\u001b[0;32m<ipython-input-32-49066f071ec3>\u001b[0m in \u001b[0;36mJ\u001b[0;34m(u)\u001b[0m\n\u001b[1;32m     15\u001b[0m \u001b[0;32mdef\u001b[0m \u001b[0mJ\u001b[0m\u001b[0;34m(\u001b[0m\u001b[0mu\u001b[0m\u001b[0;34m)\u001b[0m\u001b[0;34m:\u001b[0m\u001b[0;34m\u001b[0m\u001b[0;34m\u001b[0m\u001b[0m\n\u001b[1;32m     16\u001b[0m     \u001b[0mn\u001b[0m \u001b[0;34m=\u001b[0m \u001b[0mlen\u001b[0m\u001b[0;34m(\u001b[0m\u001b[0mu\u001b[0m\u001b[0;34m)\u001b[0m\u001b[0;34m\u001b[0m\u001b[0;34m\u001b[0m\u001b[0m\n\u001b[0;32m---> 17\u001b[0;31m     \u001b[0;32mreturn\u001b[0m \u001b[0mA\u001b[0m \u001b[0;34m+\u001b[0m \u001b[0mspdiags\u001b[0m\u001b[0;34m(\u001b[0m\u001b[0mnumpy\u001b[0m\u001b[0;34m.\u001b[0m\u001b[0mcos\u001b[0m\u001b[0;34m(\u001b[0m\u001b[0mu\u001b[0m\u001b[0;34m)\u001b[0m\u001b[0;34m,\u001b[0m\u001b[0;36m0\u001b[0m\u001b[0;34m,\u001b[0m \u001b[0mn\u001b[0m\u001b[0;34m,\u001b[0m \u001b[0mn\u001b[0m\u001b[0;34m)\u001b[0m\u001b[0;34m\u001b[0m\u001b[0;34m\u001b[0m\u001b[0m\n\u001b[0m\u001b[1;32m     18\u001b[0m \u001b[0;34m\u001b[0m\u001b[0m\n\u001b[1;32m     19\u001b[0m \u001b[0;31m#initial guess use a straight line with correct boundary conditions\u001b[0m\u001b[0;34m\u001b[0m\u001b[0;34m\u001b[0m\u001b[0;34m\u001b[0m\u001b[0m\n",
      "\u001b[0;32m/opt/conda/lib/python3.8/site-packages/scipy/sparse/construct.py\u001b[0m in \u001b[0;36mspdiags\u001b[0;34m(data, diags, m, n, format)\u001b[0m\n\u001b[1;32m     58\u001b[0m \u001b[0;34m\u001b[0m\u001b[0m\n\u001b[1;32m     59\u001b[0m     \"\"\"\n\u001b[0;32m---> 60\u001b[0;31m     \u001b[0;32mreturn\u001b[0m \u001b[0mdia_matrix\u001b[0m\u001b[0;34m(\u001b[0m\u001b[0;34m(\u001b[0m\u001b[0mdata\u001b[0m\u001b[0;34m,\u001b[0m \u001b[0mdiags\u001b[0m\u001b[0;34m)\u001b[0m\u001b[0;34m,\u001b[0m \u001b[0mshape\u001b[0m\u001b[0;34m=\u001b[0m\u001b[0;34m(\u001b[0m\u001b[0mm\u001b[0m\u001b[0;34m,\u001b[0m\u001b[0mn\u001b[0m\u001b[0;34m)\u001b[0m\u001b[0;34m)\u001b[0m\u001b[0;34m.\u001b[0m\u001b[0masformat\u001b[0m\u001b[0;34m(\u001b[0m\u001b[0mformat\u001b[0m\u001b[0;34m)\u001b[0m\u001b[0;34m\u001b[0m\u001b[0;34m\u001b[0m\u001b[0m\n\u001b[0m\u001b[1;32m     61\u001b[0m \u001b[0;34m\u001b[0m\u001b[0m\n\u001b[1;32m     62\u001b[0m \u001b[0;34m\u001b[0m\u001b[0m\n",
      "\u001b[0;32m/opt/conda/lib/python3.8/site-packages/scipy/sparse/dia.py\u001b[0m in \u001b[0;36m__init__\u001b[0;34m(self, arg1, shape, dtype, copy)\u001b[0m\n\u001b[1;32m    150\u001b[0m \u001b[0;34m\u001b[0m\u001b[0m\n\u001b[1;32m    151\u001b[0m         \u001b[0;32mif\u001b[0m \u001b[0mself\u001b[0m\u001b[0;34m.\u001b[0m\u001b[0mdata\u001b[0m\u001b[0;34m.\u001b[0m\u001b[0mshape\u001b[0m\u001b[0;34m[\u001b[0m\u001b[0;36m0\u001b[0m\u001b[0;34m]\u001b[0m \u001b[0;34m!=\u001b[0m \u001b[0mlen\u001b[0m\u001b[0;34m(\u001b[0m\u001b[0mself\u001b[0m\u001b[0;34m.\u001b[0m\u001b[0moffsets\u001b[0m\u001b[0;34m)\u001b[0m\u001b[0;34m:\u001b[0m\u001b[0;34m\u001b[0m\u001b[0;34m\u001b[0m\u001b[0m\n\u001b[0;32m--> 152\u001b[0;31m             raise ValueError('number of diagonals (%d) '\n\u001b[0m\u001b[1;32m    153\u001b[0m                     \u001b[0;34m'does not match the number of offsets (%d)'\u001b[0m\u001b[0;34m\u001b[0m\u001b[0;34m\u001b[0m\u001b[0m\n\u001b[1;32m    154\u001b[0m                     % (self.data.shape[0], len(self.offsets)))\n",
      "\u001b[0;31mValueError\u001b[0m: number of diagonals (100) does not match the number of offsets (1)"
     ]
    }
   ],
   "source": [
    "N = 100 \n",
    "x = numpy.linspace(0., 10., N)\n",
    "A = D2(x) \n",
    "n = numpy.linspace(0, 6, N)\n",
    "\n",
    "#use notes and set dirichlet conditions\n",
    "def F(u): \n",
    "    f = A.dot(u) + numpy.sin(u) - numpy.sin(3*x)\n",
    "    #set residual go to zero \n",
    "    f[[0,-1]] = 0 \n",
    "    return f\n",
    "    \n",
    "    \n",
    "# set the Jacobian \n",
    "def J(u): \n",
    "    n = len(u) \n",
    "    return A + spdiags(numpy.cos(u),0, n, n) \n",
    "\n",
    "#initial guess use a straight line with correct boundary conditions \n",
    "\n",
    "u0 = numpy.linspace(0., numpy.sin((n*numpy.pi*x)/10), N) \n",
    "sol,its = newton(F,J,u0, verbose = True) \n",
    "\n",
    "plt.figure(figsize=(8,6))\n",
    "for k in range(its+1): \n",
    "    plt.plot(x, sol[k], label = '$k={}$')\n",
    "plt.grid()\n",
    "plt.legend(loc = 'best') \n",
    "plt.xlabel('x')\n",
    "plt.ylabel('u')\n",
    "plt.show()\n",
    "\n",
    "\n"
   ]
  },
  {
   "cell_type": "markdown",
   "metadata": {
    "deletable": false,
    "editable": false,
    "nbgrader": {
     "cell_type": "markdown",
     "checksum": "9314d25abc2055783143bcea7e2ff106",
     "grade": false,
     "grade_id": "cell-6c6b18dc3ded9f8a",
     "locked": true,
     "schema_version": 3,
     "solution": false,
     "task": false
    }
   },
   "source": [
    "### Extra Fun\n",
    "\n",
    "Use your shooting routines to systematically search for non-linear solutions to this BVP problem by varying the initial guess for the initial slope $u'(0)$. How many solutions can you find?"
   ]
  }
 ],
 "metadata": {
  "kernelspec": {
   "display_name": "Python 3",
   "language": "python",
   "name": "python3"
  },
  "language_info": {
   "codemirror_mode": {
    "name": "ipython",
    "version": 3
   },
   "file_extension": ".py",
   "mimetype": "text/x-python",
   "name": "python",
   "nbconvert_exporter": "python",
   "pygments_lexer": "ipython3",
   "version": "3.8.8"
  },
  "latex_envs": {
   "bibliofile": "biblio.bib",
   "cite_by": "apalike",
   "current_citInitial": 1,
   "eqLabelWithNumbers": true,
   "eqNumInitial": 0
  }
 },
 "nbformat": 4,
 "nbformat_minor": 4
}
