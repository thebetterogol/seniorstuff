{
 "cells": [
  {
   "cell_type": "markdown",
   "metadata": {},
   "source": [
    "Before you turn this problem in, make sure everything runs as expected. First, **restart the kernel** (in the menubar, select Kernel$\\rightarrow$Restart) and then **run all cells** (in the menubar, select Cell$\\rightarrow$Run All).\n",
    "\n",
    "Make sure you fill in any place that says `YOUR CODE HERE` or \"YOUR ANSWER HERE\", as well as any collaborators you worked with:"
   ]
  },
  {
   "cell_type": "code",
   "execution_count": 1,
   "metadata": {},
   "outputs": [],
   "source": [
    "COLLABORATORS = \"Kate McGrath Reuben Solnick\""
   ]
  },
  {
   "cell_type": "markdown",
   "metadata": {},
   "source": [
    "---"
   ]
  },
  {
   "cell_type": "code",
   "execution_count": 2,
   "metadata": {},
   "outputs": [],
   "source": [
    "%matplotlib inline\n",
    "import numpy\n",
    "import matplotlib.pyplot as plt"
   ]
  },
  {
   "cell_type": "markdown",
   "metadata": {
    "deletable": false,
    "editable": false,
    "nbgrader": {
     "cell_type": "markdown",
     "checksum": "935818b1cc5498fcab64162ff74a4e0a",
     "grade": false,
     "grade_id": "cell-6537906896021329",
     "locked": true,
     "schema_version": 3,
     "solution": false
    }
   },
   "source": [
    "Before you turn this problem in, make sure everything runs as expected. First, restart the kernel (in the menubar, select Kernel $\\rightarrow$ Restart) and then run all cells (in the menubar, select Cell $\\rightarrow$ Run All).\n",
    "\n",
    "Make sure you fill in any place that says YOUR CODE HERE or \"YOUR ANSWER HERE\", as well as your name and collaborators below:"
   ]
  },
  {
   "cell_type": "markdown",
   "metadata": {
    "deletable": false,
    "editable": false,
    "nbgrader": {
     "cell_type": "markdown",
     "checksum": "0b16d783d23daac019787229d4c2e61a",
     "grade": false,
     "grade_id": "cell-5502088417300118",
     "locked": true,
     "schema_version": 3,
     "solution": false
    }
   },
   "source": [
    "# HW 3:  Interpolation and applications"
   ]
  },
  {
   "cell_type": "markdown",
   "metadata": {
    "deletable": false,
    "editable": false,
    "nbgrader": {
     "cell_type": "markdown",
     "checksum": "09aa3e7992cd994495709007184999f6",
     "grade": false,
     "grade_id": "cell-82472618555790",
     "locked": true,
     "schema_version": 3,
     "solution": false
    }
   },
   "source": [
    "## Question 1\n",
    "\n",
    "Consider data at three points $(x_0, y_0) = (0, 0)$, $(x_1, y_1) = (1, 2)$, and $(x_2, y_2) = (2, 2)$."
   ]
  },
  {
   "cell_type": "markdown",
   "metadata": {
    "deletable": false,
    "editable": false,
    "nbgrader": {
     "cell_type": "markdown",
     "checksum": "3b84eeedf2d36dfc3754dc397cd38e54",
     "grade": false,
     "grade_id": "cell-8265701073131704",
     "locked": true,
     "schema_version": 3,
     "solution": false
    }
   },
   "source": [
    "**(a)** [ 8 pts] Analytically find coefficients of the interpolating  polynomial $P_2(x)$ that passes through these three points in the following bases\n",
    "1. Monomial: $P(x) = p_0 + p_1 x + p_2 x^2$\n",
    "1. Lagrange: $P(x) = \\sum^2_{k=0} y_k \\ell_k(x)$\n",
    "\n",
    "\n",
    "and show that, independent of basis it's always the same polynomial.\n",
    "\n"
   ]
  },
  {
   "cell_type": "markdown",
   "metadata": {
    "deletable": false,
    "nbgrader": {
     "cell_type": "markdown",
     "checksum": "bdca4a8eb957567c3f00677e6a635cfa",
     "grade": true,
     "grade_id": "cell-3823725410153810",
     "locked": false,
     "points": 8,
     "schema_version": 3,
     "solution": true
    }
   },
   "source": [
    "1. For monomial, we have, $p_0 + p_1 x_i + p_2 x_i^2 = y_i$ for any $i$:\n",
    "$$p_0 + 0*p_1 + 0*p_2 = 0$$\n",
    "$$p_0 = 0$$\n",
    "$$p_0 + 1*p_1 + 1*p_2 = 2$$\n",
    "$$p_1 + p_2 = 2$$\n",
    "$$p_0 + 2*p_1 + 2^2*p_2 = 2$$\n",
    "$$p_1 + 2p_2 = 1$$\n",
    "$$p_2 = -1$$\n",
    "So, $p_0 = 0$, $p_1 = 3$, and $p_2 = -1$. And the polynomial would be, $P_2(x) = 3x - x^2$.\n",
    "\n",
    "2. For Lagrange, we have:\n",
    "$$\\ell_0 = \\frac{x - x_1}{x_0 - x_1} \\frac{x - x_2}{x_0 - x_2} = (1 - x) \\frac{x - 2}{-2}$$\n",
    "$$\\ell_1 = \\frac{x - x_0}{x_1 - x_0} \\frac{x - x_2}{x_1 - x_2} = x (2 - x)$$\n",
    "$$\\ell_2 = \\frac{x - x_0}{x_2 - x_0} \\frac{x - x_1}{x_2 - x_1} = \\frac{x}{2} (x - 1)$$\n",
    "So, we can write $P_2(x)$ as,\n",
    "$$P_2(x) = 0*((1 - x) \\frac{x - 2}{-2}) + 2*(x (2 - x)) + 2*(\\frac{x}{2} (x - 1))$$\n",
    "$$P_2(x) = 3x - x^2$$\n",
    "This leaves us with the same coefficients of, $p_0 = 0$, $p_1 = 3$, and $p_2 = -1$.\n",
    "\n",
    "\n",
    "It is thus clear that no matter the basis, the polynomial is the same as there is no other possible function. "
   ]
  },
  {
   "cell_type": "markdown",
   "metadata": {
    "deletable": false,
    "editable": false,
    "nbgrader": {
     "cell_type": "markdown",
     "checksum": "ace8c21d5f29d3cdcc7da5754f17aeb5",
     "grade": false,
     "grade_id": "cell-3903963456629954",
     "locked": true,
     "schema_version": 3,
     "solution": false
    }
   },
   "source": [
    "**(b)** [4 pts] Any $N+1$ distinct values of $x$ uniquely define the $N+1$ Lagrange polynomials $\\ell_0(x), \\ell_1(x)\\ldots\\ell_N(x)$\n",
    "\n",
    "show that these functions satisfy \n",
    "\n",
    "$$\\sum^N_{i=0} \\ell_i(x) = 1$$\n",
    "\n",
    "for all values of $x$ (not just the nodes).  We say that the Lagrange polynomials form a \"Partition of Unity\" because they always sum to 1.\n",
    "\n",
    "Hint:  consider interpolation of a constant function, $f(x) = c$ sampled at $N+1$ distinct points.\n"
   ]
  },
  {
   "cell_type": "markdown",
   "metadata": {
    "deletable": false,
    "nbgrader": {
     "cell_type": "markdown",
     "checksum": "a45926dd69a036c2edfd6cf82189426c",
     "grade": true,
     "grade_id": "cell-5902170639545808",
     "locked": false,
     "points": 4,
     "schema_version": 3,
     "solution": true
    }
   },
   "source": [
    "For Lagrange polynomials, we have that, $\\ell_i(x) = \\prod^{N}_{j=0, j \\neq i} \\frac{x - x_j}{x_i - x_j} $. A key property here is that $\\ell_i(x_j) = 1$ if $i = j$, and $\\ell_i(x_j) = 0$ otherwise. We can take $x = x_j$ for any $j = 0, 1...N$. Then it must be true that $\\sum^N_{i=0} \\ell_i(x) = 1$ because $i = j$ only once, so $\\ell_i(x_j) = 1$ is added one time, and every other $\\ell_i(x)$ is $0$."
   ]
  },
  {
   "cell_type": "markdown",
   "metadata": {
    "deletable": false,
    "editable": false,
    "nbgrader": {
     "cell_type": "markdown",
     "checksum": "ac4c96d7d73e5fc2bed61803c1dfe1b6",
     "grade": false,
     "grade_id": "cell-6806070912155660",
     "locked": true,
     "schema_version": 3,
     "solution": false
    }
   },
   "source": [
    "## Question 2: Fun with Chebyshev Polynomials"
   ]
  },
  {
   "cell_type": "markdown",
   "metadata": {
    "deletable": false,
    "editable": false,
    "nbgrader": {
     "cell_type": "markdown",
     "checksum": "41e33ea4dd4d761a50dc408a19e71687",
     "grade": false,
     "grade_id": "cell-8344454aa3c6cd29",
     "locked": true,
     "schema_version": 3,
     "solution": false,
     "task": false
    }
   },
   "source": [
    "**(a)** [4 pts] The $n$th Chebyshev polynomial is characterized (up to a constant) by the identity\n",
    "\n",
    "$$T_n(\\cos \\theta) = \\cos (n \\theta)$$\n",
    "\n",
    "Use this identity to show that the Chebyshev polynomials are orthogonal on $x\\in[-1,1]$ with respect to the weight\n",
    "\n",
    "$$\\omega(x) = \\frac{1}{\\sqrt{1 - x^2}}$$\n",
    "\n",
    "To do this you must prove that\n",
    "\n",
    "$$\\int^1_{-1} \\omega(x) T_n(x) T_m(x) dx = \\left \\{ \\begin{aligned} \n",
    "a & ~ & m = n \\\\ \n",
    "0 & ~ & m \\neq n \n",
    "\\end{aligned} \\right .$$\n",
    "\n",
    "where $a$ is a finite constant (also find this coefficient).  Note that you may have multiple non-zero coefficients $a$.  Make sure to cover all these cases and list the conditions that you will find these values."
   ]
  },
  {
   "cell_type": "markdown",
   "metadata": {
    "deletable": false,
    "nbgrader": {
     "cell_type": "markdown",
     "checksum": "30fc92751374bb2710d4fe7648e32a75",
     "grade": true,
     "grade_id": "cell-8354694405440956",
     "locked": false,
     "points": 4,
     "schema_version": 3,
     "solution": true
    }
   },
   "source": [
    "let $x=\\cos{(\\theta)} $ \\\\\n",
    "therefore $dx= \\sin{(\\theta)} d\\theta $ \\\\\n",
    "$\\>$ also, $ \\omega (\\cos (\\theta) )= \\frac{1}{\\sqrt{1- \\cos ^2(\\theta)}}$ \\\\\n",
    "\n",
    "$\\>$ beacuse $\\arccos{(-1)}=\\pi$  and $\\arccos{(-1)}=0$ \\\\\n",
    "\n",
    "so our integral is: $\\int_{\\pi}^{0}\\frac{1}{\\sqrt{1- \\cos ^2(\\theta)}} \\times \\cos{(m\\theta)} \\times \\cos{(n \\theta)} \\times C- \\sin{(\\theta)}d\\theta$ \\\\\n",
    "\n",
    "$\\sqrt{1- \\cos ^2(\\theta)} = \\sin{(\\theta)} \\Rightarrow \\int_{\\pi}^{0} \\frac{1}{\\sin{(\\theta)}} ^{(-\\sin{(\\theta))}} (\\cos{(m\\theta)}\\cos{(n \\theta))} d\\theta$ \\\\\n",
    "$\\>$ $- \\int_{\\pi}^{0}(\\cos{(m\\theta)}\\cos{(n \\theta))} d\\theta = \\int_{\\pi}^{0} (\\cos{(m\\theta)}\\cos{(n \\theta)}d\\theta$ \\\\\n",
    "\n",
    "for m=n: \\\\\n",
    "$\\frac{1}{2}\\int_{0}^{\\pi} \\cos{(2\\pi n)} - 1d\\theta = \\frac{2n\\pi + \\sin{(2n\\pi)}}{4n}$ \\\\\n",
    "\n",
    "this equals $\\frac{\\pi}{2}$ for any  $n \\in N$.  \\\\\n",
    "\n",
    "for $m \\neq n$ we get: \n",
    "\n",
    "$\\>$ $\\>$  $\\frac{m\\cos{(n \\pi)} \\sin{(m \\pi)}- n\\cos{(m \\pi)}  \\sin{(n\\pi)}}{m^2-n^2}$  \n",
    "\n",
    "$\\>$ we have $\\sin{(m \\pi)}$ and $\\sin{(n \\pi)}$, these will therefore be $0$ for any $m,n \\in N$. \\\\\n",
    "\n",
    "this then gives us rhe answer."
   ]
  },
  {
   "cell_type": "markdown",
   "metadata": {
    "deletable": false,
    "editable": false,
    "nbgrader": {
     "cell_type": "markdown",
     "checksum": "851c8fd33ea9abf46564acc344e400ca",
     "grade": false,
     "grade_id": "cell-87edfee5e38ec2f5",
     "locked": true,
     "schema_version": 3,
     "solution": false,
     "task": false
    }
   },
   "source": [
    "**(b)** [4 pts] Consider the  shifted Gaussian \n",
    "$$ f(x) = e^{-(x - 3)^2} $$ on the interval $x\\in[0,6]$\n",
    "\n",
    "make a plot comparing the polynomial interpolant through $N=11$ points using \n",
    "* Evenly spaced points\n",
    "* The appropriate Chebyshev nodes (i.e. roots of $T_{11}$: **note** you will need to transform the nodes defined on the interval $s\\in[-1,1]$ to $x\\in[0, 6]$)\n",
    "\n",
    "Be sure to show both the interpolation points and a reasonably resolved interpolating polynomial $P_{10}(x)$, and label all lines and axes.\n",
    "\n",
    "You can use any of the routines from the notes or `numpy.polyfit` and `numpy.polyval` to actually compute and plot the interpolating polynomial.\n",
    "\n",
    "For fun, experiment with other functions (e.g. Runge's function $f(x) = 1/(1 + 25x^2)$)"
   ]
  },
  {
   "cell_type": "code",
   "execution_count": 5,
   "metadata": {
    "deletable": false,
    "nbgrader": {
     "cell_type": "code",
     "checksum": "2a1162be101f1f24b8346ec12954767b",
     "grade": true,
     "grade_id": "cell-02c4fc987bf9ddca",
     "locked": false,
     "points": 4,
     "schema_version": 3,
     "solution": true,
     "task": false
    }
   },
   "outputs": [
    {
     "data": {
      "image/png": "[encoded data removed]",
      "text/plain": [
       "<Figure size 576x432 with 1 Axes>"
      ]
     },
     "metadata": {
      "needs_background": "light"
     },
     "output_type": "display_data"
    }
   ],
   "source": [
    "x = numpy.linspace(0, 6, 100)\n",
    "f = lambda x: numpy.exp(-1*(x-3)**2)\n",
    "num_pts = 11\n",
    "\n",
    "even_data = numpy.empty((num_pts, 2))\n",
    "even_data[:, 0] = numpy.linspace(0, 6, num_pts) #the evenly spaced nodes (from class notes)\n",
    "even_data[:, 1] = f(even_data[:, 0])\n",
    "N = even_data.shape[0] - 1\n",
    "\n",
    "#make evenly spaces polynomial\n",
    "even_p = numpy.polyfit(even_data[:, 0], even_data[:, 1], N)\n",
    "even_poly = numpy.polyval(even_p, x)\n",
    "\n",
    "#take from chebyshev notes \n",
    "cheby_data = numpy.empty((num_pts, 2))\n",
    "cheby_data[:, 0] = 3 * (1 + numpy.cos((2.0 * numpy.arange(1, num_pts + 1) -1.0)*numpy.pi /(2.0 * num_pts)))\n",
    "cheby_data[:, 1] = f(cheby_data[:, 0])\n",
    "\n",
    "cheby_p = numpy.polyfit(cheby_data[:, 0], cheby_data[:, 1], N)\n",
    "cheby_poly = numpy.polyval(cheby_p, x)\n",
    "\n",
    "fig = plt.figure(figsize=(8,6))\n",
    "axes = fig.add_subplot(1, 1, 1)\n",
    "\n",
    "axes.plot(x, f(x), 'k', label= \"true f(x)\")\n",
    "\n",
    "axes.plot(even_data[:,0], even_data[:, 1], 'ro', label=\"even data\")\n",
    "axes.plot(x, even_poly, 'r--', label = 'even poly')\n",
    "\n",
    "axes.plot(cheby_data[:, 0], cheby_data[:, 1], 'bo', label = \"cheby data\")\n",
    "axes.plot(x, cheby_poly, 'b--', label = 'cheby poly')\n",
    "\n",
    "axes.set_ylim((-.1, 1.1))\n",
    "axes.set_title(\"$f(x) = e^{-(x-3)^2}$\")\n",
    "axes.set_xlabel(\"x\")\n",
    "axes.set_ylabel(\"$T_N(x)$\")\n",
    "axes.legend(loc= 'best')\n",
    "axes.grid()\n",
    "\n",
    "plt.show()"
   ]
  },
  {
   "cell_type": "markdown",
   "metadata": {
    "deletable": false,
    "editable": false,
    "nbgrader": {
     "cell_type": "markdown",
     "checksum": "407a3047713db39c9682e9671ffcac56",
     "grade": false,
     "grade_id": "cell-963631730bd282f4",
     "locked": true,
     "schema_version": 3,
     "solution": false,
     "task": false
    }
   },
   "source": [
    "**(c)** [4 pts] define the relative error as\n",
    "        \n",
    "$$\n",
    " r = \\frac{||f(x) - P_N(x)||}{||f(x)||}\n",
    "$$\n",
    "\n",
    "where $||\\cdot||$ is an appropriate norm (length) of a vector, in python you can calculate this by\n",
    "\n",
    "```python\n",
    "x = numpy.linspace(x_min, x_max)\n",
    "P_N = numpy.polyval(p, x)\n",
    "\n",
    "err = f(x) - P_N(x)\n",
    "r = numpy.linalg.norm(err)/numpy.linalg.norm(f(x))\n",
    "```\n",
    "\n",
    "* Make a well labeled plot showing log(r) vs number of grid points $N$ for $N\\in[5,30]$ \n",
    "* Comment briefly on your results. Some questions to consider are:\n",
    "    *  does $P_N(x)\\rightarrow f(x)$ as $N\\rightarrow\\infty$?\n",
    "    *  Is one interpolant more accurate than the other?\n",
    "    * Anything else you notice"
   ]
  },
  {
   "cell_type": "code",
   "execution_count": 14,
   "metadata": {
    "deletable": false,
    "nbgrader": {
     "cell_type": "code",
     "checksum": "b501a285d15a7fef6e0dbb6a2fca307e",
     "grade": true,
     "grade_id": "cell-3a61e29e4740bd7d",
     "locked": false,
     "points": 4,
     "schema_version": 3,
     "solution": true,
     "task": false
    }
   },
   "outputs": [
    {
     "name": "stderr",
     "output_type": "stream",
     "text": [
      "<ipython-input-14-35c9ff151702>:36: UserWarning: Attempted to set non-positive bottom ylim on a log-scaled axis.\n",
      "Invalid limit will be ignored.\n",
      "  axes.set_ylim(0, 10)\n"
     ]
    },
    {
     "data": {
      "image/png": "[encoded data removed]",
      "text/plain": [
       "<Figure size 576x432 with 1 Axes>"
      ]
     },
     "metadata": {
      "needs_background": "light"
     },
     "output_type": "display_data"
    },
    {
     "data": {
      "text/plain": [
       "'\\neven_data = numpy.empty((num_pts, 2))\\neven_data[:, 0] = numpy.linspace(0, 6, num_pts)\\neven_data[:, 1] = f(even_data[:,0])\\nN = even_data.shape[0]-1 \\n\\neven_p = numpy.polyfit(even_data[:, 0], even_data[:0, 1], N)\\neven_poly = numpy.polyval(even_p, x)\\n\\n# from chebyshev notes \\ncheby_data = numpy.empty((num_pts, 2))\\ncheby_data[:, 0] = 3 * (1 + numpy,cos((2.0 * numpy.arange(1, num_pts +1) -1.0) * numpy.pi /(2.0 * num_pts)))\\ncheby_data[:, 1] = f(cheby_data[:, 0])\\n\\nfor\\n'"
      ]
     },
     "execution_count": 14,
     "metadata": {},
     "output_type": "execute_result"
    }
   ],
   "source": [
    "x = numpy.linspace(-1, 1) \n",
    "num_pts = numpy.arange(5, 31)\n",
    "\n",
    "even_r = []\n",
    "cheby_r = []\n",
    "\n",
    "for i in num_pts: \n",
    "    even_data = numpy.empty((i, 2))\n",
    "    even_data[:, 0] = numpy.linspace(-1, 1, i)\n",
    "    even_data[:, 1] = f(even_data[:, 0])\n",
    "    N = even_data.shape[0] - 1\n",
    "    \n",
    "    even_p = numpy.polyfit(even_data[:, 0], even_data [:, 1], N)\n",
    "    even_poly = numpy.polyval(even_p, x)\n",
    "    \n",
    "    cheby_data = numpy.empty((i, 2))\n",
    "    cheby_data[:, 0] = numpy.cos((2.0 * numpy.arange(1, i+1) - 1.0) * numpy.pi / (2.0 * i))\n",
    "    cheby_data[:, 1] = f(cheby_data[:, 0])\n",
    "    \n",
    "    cheby_p = numpy.polyfit(cheby_data[:, 0], cheby_data[:, 1], N)\n",
    "    cheby_poly = numpy.polyval(cheby_p, x)\n",
    "    \n",
    "    even_err = f(x) - even_poly\n",
    "    even_r.append(numpy.linalg.norm(even_err)/ numpy.linalg.norm(f(x)))\n",
    "    \n",
    "    cheby_err = f(x) - cheby_poly\n",
    "    cheby_r.append(numpy.linalg.norm(cheby_err)/numpy.linalg.norm(f(x)))\n",
    "    \n",
    "fig = plt.figure(figsize=(8, 6))\n",
    "axes = fig.add_subplot(1, 1, 1)\n",
    "\n",
    "axes.semilogy(num_pts, even_r, N, label='log(r) from even data')\n",
    "axes.semilogy(num_pts, cheby_r, N, label= 'log(r) from cheby data')\n",
    "\n",
    "axes.set_xlim(5, 30)\n",
    "axes.set_ylim(0, 10)\n",
    "\n",
    "axes.set_title(\"error\")\n",
    "axes.set_xlabel(\"N\")\n",
    "axes.set_ylabel(\"y\")\n",
    "axes.legend(loc= 'best')\n",
    "axes.grid()\n",
    "\n",
    "plt.show()\n",
    "'''\n",
    "even_data = numpy.empty((num_pts, 2))\n",
    "even_data[:, 0] = numpy.linspace(0, 6, num_pts)\n",
    "even_data[:, 1] = f(even_data[:,0])\n",
    "N = even_data.shape[0]-1 \n",
    "\n",
    "even_p = numpy.polyfit(even_data[:, 0], even_data[:0, 1], N)\n",
    "even_poly = numpy.polyval(even_p, x)\n",
    "\n",
    "# from chebyshev notes \n",
    "cheby_data = numpy.empty((num_pts, 2))\n",
    "cheby_data[:, 0] = 3 * (1 + numpy,cos((2.0 * numpy.arange(1, num_pts +1) -1.0) * numpy.pi /(2.0 * num_pts)))\n",
    "cheby_data[:, 1] = f(cheby_data[:, 0])\n",
    "\n",
    "for\n",
    "'''\n",
    "\n",
    "\n"
   ]
  },
  {
   "cell_type": "markdown",
   "metadata": {
    "deletable": false,
    "nbgrader": {
     "cell_type": "markdown",
     "checksum": "e3b7bad1b549b90f5d44416f05d4d9c0",
     "grade": true,
     "grade_id": "cell-9bd361f6e06eb56c",
     "locked": false,
     "points": 2,
     "schema_version": 3,
     "solution": true,
     "task": false
    }
   },
   "source": [
    "The polynomial approximations do aproach the function. The cheby interpolant is more accurate as its convergences does not appear to increase again after a certain amount of iterations but the other interpolant does. "
   ]
  },
  {
   "cell_type": "markdown",
   "metadata": {
    "deletable": false,
    "editable": false,
    "nbgrader": {
     "cell_type": "markdown",
     "checksum": "27b49713fe8cae4dff40225f79ad92df",
     "grade": false,
     "grade_id": "cell-3224734890563854",
     "locked": true,
     "schema_version": 3,
     "solution": false
    }
   },
   "source": [
    "## Question 3\n",
    "\n",
    "We can often reformulate finite difference approximations as matrix-vector products.   \n",
    "\n",
    "Here we will construct a matrix   $D$  such that multiplying a vector of $\\mathbf{y}$ values would lead to a second order approximation of the First derivative for the given data. \n",
    "\n",
    "In other words, defining the two vectors   $\\mathbf{x}=[x_0, x_1,\\ldots,x_N]^T$ and $\\mathbf{y}=[y_0, y_1,\\ldots,y_N]^T$  such that\n",
    "\n",
    "$$\\mathbf{y} = f(\\mathbf{x})$$\n",
    "\n",
    "for some scalar function $f$,  find a matrix $D$ such that \n",
    "\n",
    "$$\n",
    "f'(\\mathbf{x}) \\approx D\\mathbf{y}\n",
    "$$"
   ]
  },
  {
   "cell_type": "markdown",
   "metadata": {
    "deletable": false,
    "editable": false,
    "nbgrader": {
     "cell_type": "markdown",
     "checksum": "75ec0cda1d28b8a0bcdb536eaff4233f",
     "grade": false,
     "grade_id": "cell-5c735e9080300d72",
     "locked": true,
     "schema_version": 3,
     "solution": false
    }
   },
   "source": [
    "**(a)** [16] Using any method of your choice, derive the following finite-difference formulas for 3 equispaced points $x_i, x_{i+1}, x_{i+2}$ \n",
    "\n",
    "* 2nd-order accurate approximation to the *1st derivative* at  point \n",
    "    * $x_i$ (forward differences)\n",
    "    * $x_{i+1}$ (centered differences)\n",
    "    * $x_{i+2}$ (backward differences)\n",
    "* 2nd-order accurate approximation to the *2nd derivative* evaluated at each point (hint: think before you grind)\n",
    "\n",
    "Some hints:\n",
    "1. consider the interpolating polynomial $P_2(x)$ through those 3 points and calculate $P'_2(x)$ at each point.\n",
    "2. the method of undetermined coefficients on Taylor's series can be useful here as well\n",
    "\n"
   ]
  },
  {
   "cell_type": "markdown",
   "metadata": {
    "deletable": false,
    "nbgrader": {
     "cell_type": "markdown",
     "checksum": "b46a1b3dc8a64dd94422b7611d5aac79",
     "grade": true,
     "grade_id": "cell-88d2d6f7dba4237d",
     "locked": false,
     "points": 16,
     "schema_version": 3,
     "solution": true
    }
   },
   "source": [
    "$$P_2(x) = f_0 \\frac{(x - x_{i+1})(x - x_{i+2})}{(x_{i} - x_{i+1})(x_i - x_{i+2})} \n",
    "         + f_1 \\frac{(x - x_{i})(x - x_{i+2})}{(x_{i+1} - x_{i})(x_{i+1} - x_{i+2})}\n",
    "         + f_2 \\frac{(x - x_{i})(x - x_{i+1})}{(x_{i+2} - x_{i})(x_{i+2} - x_{i+1})}\n",
    "         $$\n",
    "\n",
    "$$P'_2(x) = f_0 \\frac{(x - x_{i+1}) + (x - x_{i+2})}{(x_{i} - x_{i+1})(x_i - x_{i+2})} \n",
    "          + f_1 \\frac{(x - x_{i}) + (x - x_{i+2})}{(x_{i+1} - x_{i})(x_{i+1} - x_{i+2})}\n",
    "          + f_2 \\frac{(x - x_{i}) + (x - x_{i+1})}{(x_{i+2} - x_{i})(x_{i+2} - x_{i+1})}\n",
    "          $$\n",
    "\n",
    "Then, we can find $P'_2(x)$ at each of the points:\n",
    "$$P'_2(x_i) = f_0 \\frac{(x_i - x_{i+1}) + (x_i - x_{i+2})}{(x_{i} - x_{i+1})(x_i - x_{i+2})} \n",
    "          + f_1 \\frac{(x_i - x_{i+2})}{(x_{i+1} - x_{i})(x_{i+1} - x_{i+2})}\n",
    "          + f_2 \\frac{(x_i - x_{i+1})}{(x_{i+2} - x_{i})(x_{i+2} - x_{i+1})}\n",
    "          $$\n",
    "\n",
    "$$P'_2(x_{i+1}) = f_0 \\frac{(x_{i+1} - x_{i+2})}{(x_{i} - x_{i+1})(x_i - x_{i+2})} \n",
    "          + f_1 \\frac{(x_{i+1} - x_{i}) + (x_{i+1} - x_{i+2})}{(x_{i+1} - x_{i})(x_{i+1} - x_{i+2})}\n",
    "          + f_2 \\frac{(x_{i+1} - x_{i})}{(x_{i+2} - x_{i})(x_{i+2} - x_{i+1})}\n",
    "          $$\n",
    "\n",
    "$$P'_2(x_{i+2}) = f_0 \\frac{(x_{i+2} - x_{i+1})}{(x_{i} - x_{i+1})(x_i - x_{i+2})} \n",
    "          + f_1 \\frac{(x_{i+2} - x_{i})}{(x_{i+1} - x_{i})(x_{i+1} - x_{i+2})}\n",
    "          + f_2 \\frac{(x_{i+2} - x_{i}) + (x_{i+2} - x_{i+1})}{(x_{i+2} - x_{i})(x_{i+2} - x_{i+1})}\n",
    "          $$\n",
    "\n",
    "   \n",
    " \n",
    "$$P'_2(x_i) = f_0 \\frac{3}{(2\\Delta x)}  ",
    "          + f_1 \\frac{2}{(\\Delta x)} ",
    "          + f_2 \\frac{-1}{(2\\Delta x)}$$\n",
    "$$P'_2(x_{i+1\n",
    "}) = f_0 \\frac{-1}{2 {\\Delta} x} \n",
    "          + f_2 \\frac{1}{2{\\Delta} x}\n",
    "          $$\n",
    "$$P'_2(x_{i+2}) = f_0 \\frac{1}{2 \\Delta x} \n",
    "          + f_1 \\frac{-2}{\\Delta x}\n",
    "          + f_2 \\frac{3}{2 \\Delta x}\n",
    "          $$\n",
    "   \n",
    "The second derivative will be  a constant:\n",
    "$$P''_2(x) = f_0 \\frac{2}{(x_{i} - x_{i+1})(x_i - x_{i+2})} \n",
    "          + f_1 \\frac{2}{(x_{i+1} - x_{i})(x_{i+1} - x_{i+2})}\n",
    "          + f_2 \\frac{2}{(x_{i+2} - x_{i})(x_{i+2} - x_{i+1})}\n",
    "          $$\n",
    "      \n",
    "         "
   ]
  },
  {
   "cell_type": "markdown",
   "metadata": {
    "deletable": false,
    "editable": false,
    "nbgrader": {
     "cell_type": "markdown",
     "checksum": "5b4d3625936b76ee346bf8290df0a272",
     "grade": false,
     "grade_id": "cell-7885120873385504",
     "locked": true,
     "schema_version": 3,
     "solution": false
    }
   },
   "source": [
    "**(b)** [4] Now consider an equispaced set of points  $y_i = f(x_i)$.  Can you describe the structure of a consistent 2nd order, first derivative matrix $D$,  such that \n",
    "\n",
    "$$\n",
    "    f'(\\mathbf{x}) \\approx D\\mathbf{y}\n",
    "$$\n",
    "\n",
    "returns the consistent 1st derivative at every point (including the end points)"
   ]
  },
  {
   "cell_type": "markdown",
   "metadata": {
    "deletable": false,
    "nbgrader": {
     "cell_type": "markdown",
     "checksum": "615db92a0cea0a438f8d1bcb1b304b11",
     "grade": true,
     "grade_id": "cell-2125755949784286",
     "locked": false,
     "points": 4,
     "schema_version": 3,
     "solution": true
    }
   },
   "source": [
    "The matrix would be square and symmetrical(with a zero in the middle): \n",
    "$$\\begin{bmatrix}\n",
    "    -3/2 & 2 & -1/2 \\\\\n",
    "    -1/2 & 0 & 1/2 \\\\\n",
    "    1/2 & -2 & 3/2 \\\\\n",
    "\\end{bmatrix}$$\n"
   ]
  },
  {
   "cell_type": "markdown",
   "metadata": {
    "deletable": false,
    "editable": false,
    "nbgrader": {
     "cell_type": "markdown",
     "checksum": "81a305f8a973d9be62256992de1c1149",
     "grade": false,
     "grade_id": "cell-8815784455777695",
     "locked": true,
     "schema_version": 3,
     "solution": false
    }
   },
   "source": [
    "**(c)** [4] Using the function `fdcoeffV.py` described in class (and included with this homework), write a python function that takes in a numpy array of coordinates $x$ (not necessarily evenly spaced)  and returns a matrix $D$ that calculates the consistent 2nd-order 1st derivatives at each point using 3 nearest neighbors (be careful at the edges)\n",
    "\n",
    "Given this matrix $D$, it is easy to test it for various functions and meshes"
   ]
  },
  {
   "cell_type": "code",
   "execution_count": null,
   "metadata": {
    "deletable": false,
    "nbgrader": {
     "cell_type": "code",
     "checksum": "0ccb77beb9410271354dbf3a474cb335",
     "grade": false,
     "grade_id": "cell-5516025382221234",
     "locked": false,
     "schema_version": 3,
     "solution": true
    }
   },
   "outputs": [],
   "source": [
    "from  fdcoeffV import fdcoeffV\n",
    "\n",
    "def D1(x):\n",
    "    \n",
    "    for i in inuermate\n",
    "    \"\"\"\n",
    "    Write a good doc-string\n",
    "    \n",
    "    x: ndarray of coordinates\n",
    "    D: ndarray\n",
    "        Matrix (2-D ndarray ) to calculate consistent 2nd order first derivative\n",
    "    \"\"\"\n",
    "    \n",
    "    \n"
   ]
  },
  {
   "cell_type": "code",
   "execution_count": null,
   "metadata": {
    "deletable": false,
    "editable": false,
    "nbgrader": {
     "cell_type": "code",
     "checksum": "728edeeac8ee580c8b5451714396ff74",
     "grade": true,
     "grade_id": "cell-7511846809958937",
     "locked": true,
     "points": 4,
     "schema_version": 3,
     "solution": false
    }
   },
   "outputs": [],
   "source": [
    "# Let's test this using f(x) = sin(pi*x) on a uniform mesh\n",
    "N = 200\n",
    "x = numpy.linspace(-1, 1, N)\n",
    "dx = x[1]-x[0]\n",
    "\n",
    "pi = numpy.pi\n",
    "y = lambda x: numpy.sin(pi*x)\n",
    "y_prime = lambda x: pi*numpy.cos(pi*x)\n",
    "\n",
    "print(\"Uniform mesh: \",end='')\n",
    "numpy.testing.assert_allclose(numpy.dot(D1(x), y(x)), y_prime(x), rtol=1e-2)\n",
    "print(\"Success!\")\n",
    "\n",
    "# test on a randomized mesh\n",
    "x_rand = x + dx/3.*numpy.random.rand(N)\n",
    "print(\"Random mesh: \",end ='')\n",
    "numpy.testing.assert_allclose(numpy.dot(D1(x_rand), y(x_rand)), y_prime(x_rand), rtol=1e-2)\n",
    "print(\"Success!\")\n",
    "\n"
   ]
  },
  {
   "cell_type": "markdown",
   "metadata": {
    "deletable": false,
    "editable": false,
    "nbgrader": {
     "cell_type": "markdown",
     "checksum": "ae07a197d06352ba440c9a21e07f055a",
     "grade": false,
     "grade_id": "cell-894a7ec04fd0689b",
     "locked": true,
     "schema_version": 3,
     "solution": false,
     "task": false
    }
   },
   "source": [
    "**(d)** [6] make a beautiful convergence plot showing how the relative error in your finite element approximation\n",
    "\n",
    "$$ r = \\frac{||f'(\\mathbf{x}) - D\\mathbf{y}||}{||f'(\\mathbf{x})||}$$\n",
    "\n",
    " scales with mesh spacing $\\Delta x$ for $f(x) = \\sin(\\pi x)$ on the interval $x\\in[-1,1]$.  What is the expected rate of convergence?  Compare with the best fit straight line (in log space) to your error estimates."
   ]
  },
  {
   "cell_type": "code",
   "execution_count": null,
   "metadata": {
    "deletable": false,
    "nbgrader": {
     "cell_type": "code",
     "checksum": "4500eb4ea647bfe57d5b35b583a5e97c",
     "grade": true,
     "grade_id": "cell-2dac3533cd822755",
     "locked": false,
     "points": 4,
     "schema_version": 3,
     "solution": true,
     "task": false
    }
   },
   "outputs": [],
   "source": [
    "# YOUR CODE HERE\n",
    "raise NotImplementedError()"
   ]
  },
  {
   "cell_type": "markdown",
   "metadata": {
    "deletable": false,
    "nbgrader": {
     "cell_type": "markdown",
     "checksum": "26e78697e343f6e8a397e33cb9f745f8",
     "grade": true,
     "grade_id": "cell-cdbaae508b97aeab",
     "locked": false,
     "points": 2,
     "schema_version": 3,
     "solution": true,
     "task": false
    }
   },
   "source": [
    "YOUR ANSWER HERE"
   ]
  },
  {
   "cell_type": "markdown",
   "metadata": {
    "deletable": false,
    "editable": false,
    "nbgrader": {
     "cell_type": "markdown",
     "checksum": "71695abb08cc03b3423e733ae2b932fa",
     "grade": false,
     "grade_id": "cell-1283048126092389",
     "locked": true,
     "schema_version": 3,
     "solution": false
    }
   },
   "source": [
    "**(e)** [4] Suppose we knew the *first derivative* of a function $f(x)$ at a discrete set of points and wanted to solve for the discrete function itself.  i.e.  ideally given $D$ and vector $\\mathbf{y} = f'(\\mathbf{x})$,  we would like to be able to solve the linear algebra problem\n",
    "\n",
    "$$\n",
    "    D\\mathbf{f} = \\mathbf{y}\n",
    "$$\n",
    "\n",
    "for $\\mathbf{f}\\approx f(\\bf{x})$.  Discuss any issues we might have with this approach."
   ]
  },
  {
   "cell_type": "markdown",
   "metadata": {
    "deletable": false,
    "nbgrader": {
     "cell_type": "markdown",
     "checksum": "4796062ad226b5075c548c9202ba07fe",
     "grade": true,
     "grade_id": "cell-3816704844311840",
     "locked": false,
     "points": 4,
     "schema_version": 3,
     "solution": true
    }
   },
   "source": [
    "I believe that issues might arise due to the size of this matrix"
   ]
  },
  {
   "cell_type": "code",
   "execution_count": null,
   "metadata": {},
   "outputs": [],
   "source": []
  }
 ],
 "metadata": {
  "kernelspec": {
   "display_name": "Python 3",
   "language": "python",
   "name": "python3"
  },
  "language_info": {
   "codemirror_mode": {
    "name": "ipython",
    "version": 3
   },
   "file_extension": ".py",
   "mimetype": "text/x-python",
   "name": "python",
   "nbconvert_exporter": "python",
   "pygments_lexer": "ipython3",
   "version": "3.8.8"
  },
  "latex_envs": {
   "bibliofile": "biblio.bib",
   "cite_by": "apalike",
   "current_citInitial": 1,
   "eqLabelWithNumbers": true,
   "eqNumInitial": 0
  }
 },
 "nbformat": 4,
 "nbformat_minor": 4
}
