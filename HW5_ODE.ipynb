{
 "cells": [
  {
   "cell_type": "markdown",
   "metadata": {},
   "source": [
    "Before you turn this problem in, make sure everything runs as expected. First, **restart the kernel** (in the menubar, select Kernel$\\rightarrow$Restart) and then **run all cells** (in the menubar, select Cell$\\rightarrow$Run All).\n",
    "\n",
    "Make sure you fill in any place that says `YOUR CODE HERE` or \"YOUR ANSWER HERE\", as well as any collaborators you worked with:"
   ]
  },
  {
   "cell_type": "code",
   "execution_count": 1,
   "metadata": {},
   "outputs": [],
   "source": [
    "COLLABORATORS = \"Nicolette Auld-Griffith, Kate McGrath, Reuben Solnick\""
   ]
  },
  {
   "cell_type": "markdown",
   "metadata": {},
   "source": [
    "---"
   ]
  },
  {
   "cell_type": "code",
   "execution_count": 2,
   "metadata": {},
   "outputs": [],
   "source": [
    "from __future__ import print_function\n",
    "%matplotlib inline\n",
    "%precision 16\n",
    "import numpy\n",
    "import matplotlib.pyplot as plt\n",
    "from scipy.integrate import solve_ivp\n",
    "\n",
    "from stability_diagrams import plot_stability_ssms\n",
    "from stability_diagrams import plot_stability_lmm"
   ]
  },
  {
   "cell_type": "markdown",
   "metadata": {
    "deletable": false,
    "editable": false,
    "nbgrader": {
     "cell_type": "markdown",
     "checksum": "9d5d2b9b0032a51cbbd23829dbd4fb26",
     "grade": false,
     "grade_id": "cell-6282430347078978",
     "locked": true,
     "schema_version": 3,
     "solution": false
    }
   },
   "source": [
    "# HW 5:  ODE Methods - Initial Value Problems\n",
    "\n",
    "These questions will use a mixture of scipy routines and hand-rolled ODE solver methods (which you can use from the notes)"
   ]
  },
  {
   "cell_type": "markdown",
   "metadata": {
    "deletable": false,
    "editable": false,
    "nbgrader": {
     "cell_type": "markdown",
     "checksum": "6d3f50205a301f054a0661bf8eccf775",
     "grade": false,
     "grade_id": "cell-97c426ce43130f77",
     "locked": true,
     "schema_version": 3,
     "solution": false,
     "task": false
    }
   },
   "source": [
    "## Question 1 - The SIR model for Infectious diseases\n",
    "\n",
    "ODE based models are a classical approach to understanding the spread of infectious diseases.\n",
    "\n",
    "One of the pioneering models is the SIR model of [Kermack and McKendrick, (1927)](https://royalsocietypublishing.org/doi/10.1098/rspa.1927.0118) which is a mean-field theory for large populations that assumes the general population can be divided into three subgroups\n",
    "\n",
    "* $S$: the number of susceptible patients\n",
    "* $I$: the number of infected patients\n",
    "* $R$: the number of recovered (or otherwise) patients\n",
    "\n",
    "Given these definitions, the simplest dynamical systems for the three populations can be written\n",
    "\n",
    "$$\n",
    "\\begin{aligned}\n",
    "\\frac{d S}{dt} &= -\\alpha SI \\\\\n",
    "\\frac{d I}{dt} &= \\alpha SI -\\beta I\\\\\n",
    "\\frac{d R}{dt} &= \\beta I \\\\\n",
    "\\end{aligned}\n",
    "$$\n",
    "\n",
    "where $\\alpha$ is the infection rate per person, and $\\beta$ is the recovery rate (hint: check the units) \n",
    "\n",
    "This is the original Kermack and McKendrick model.  We will discuss a host of themes and variations later.  If you are interested [Siettos and Russo, (2013)](https://doi.org/10.4161/viru.24041) provides a short overview of the much larger field of epidemiology modeling (although this paper has some significant mistakes with respect to the analysis of the Kermack and McKendrick model, and I'm sure there are considerably more papers on modeling epidemics now).\n",
    "\n",
    "We will explore this problem through a combination of Analysis and Numerical methods and to use it to test different methods for ODE solvers.\n"
   ]
  },
  {
   "cell_type": "markdown",
   "metadata": {
    "deletable": false,
    "editable": false,
    "nbgrader": {
     "cell_type": "markdown",
     "checksum": "9d56e0a3dcd650ebafd65482f9f8284c",
     "grade": false,
     "grade_id": "cell-d57d5cccd5fe437a",
     "locked": true,
     "schema_version": 3,
     "solution": false,
     "task": false
    }
   },
   "source": [
    "**(a)** [4] First try to explain in words,  what this system of ODE's describes"
   ]
  },
  {
   "cell_type": "markdown",
   "metadata": {
    "deletable": false,
    "hide_input": true,
    "nbgrader": {
     "cell_type": "markdown",
     "checksum": "3a50bb5fe5e3cea6be689f0f83eba3d5",
     "grade": true,
     "grade_id": "cell-78f1cbd4419916a6",
     "locked": false,
     "points": 4,
     "schema_version": 3,
     "solution": true,
     "task": false
    }
   },
   "source": [
    "The ODEs above describe an exponential rise and decay of infected patients (3 ways to describe the change of the population of infected people- the overall population of people stays constant though). It can also predict this change in the future. This only has 3 variables so it is a very basic model infection. "
   ]
  },
  {
   "cell_type": "markdown",
   "metadata": {
    "deletable": false,
    "editable": false,
    "nbgrader": {
     "cell_type": "markdown",
     "checksum": "560e626bedbdf30b4de0409b4266bb04",
     "grade": false,
     "grade_id": "cell-c02805feb94b785b",
     "locked": true,
     "schema_version": 3,
     "solution": false,
     "task": false
    }
   },
   "source": [
    "### Some analysis.  \n",
    "\n",
    "Here we will conduct some elementary dimensional analysis to reduce the parameter space.  More detailed analysis of this system can be found  in Steve Strogatz' excellent text on [dynamical systems](https://smile.amazon.com/Nonlinear-Dynamics-Chaos-Applications-Nonlinearity/dp/0813349109/ref=dp_ob_image_bk)"
   ]
  },
  {
   "cell_type": "markdown",
   "metadata": {
    "deletable": false,
    "editable": false,
    "nbgrader": {
     "cell_type": "markdown",
     "checksum": "e0ff12772c25324e8cf54b989bfe15a1",
     "grade": false,
     "grade_id": "cell-28b8298c72a5a12c",
     "locked": true,
     "schema_version": 3,
     "solution": false,
     "task": false
    }
   },
   "source": [
    "**(b)** [2] Show that the SIR equations imply that   $S + I + R = N$  where $N$ is a constant (the total population of susceptible people that can all interact)"
   ]
  },
  {
   "cell_type": "markdown",
   "metadata": {
    "deletable": false,
    "nbgrader": {
     "cell_type": "markdown",
     "checksum": "f2f763bc3313b8cace5cadf627a502d3",
     "grade": true,
     "grade_id": "cell-0faef9786658c554",
     "locked": false,
     "points": 2,
     "schema_version": 3,
     "solution": true,
     "task": false
    }
   },
   "source": [
    "Can integrate to find equations for $S$, $I$, and $R$.\n",
    "\n",
    "$$ \n",
    "\\begin{aligned}\n",
    "S &= - \\alpha SIt + C_S \\\\\n",
    "I &= \\alpha SIt - \\beta It + C_I \\\\\n",
    "R &= \\beta It + C_R \\\\\n",
    "\\end{aligned}\n",
    "$$\n",
    "\n",
    "With each C being some constant. From here, we can simply to a single function with constant N:\n",
    "\n",
    "$$\n",
    "\\begin{aligned}\n",
    "I &= C_S - S - (R - C_R) + C_I \\\\\n",
    "S + I + R &= C_S + C_I + C_R \\\\\n",
    "S + I + R &= N \\\\\n",
    "\\end{aligned}\n",
    "$$"
   ]
  },
  {
   "cell_type": "markdown",
   "metadata": {
    "deletable": false,
    "editable": false,
    "nbgrader": {
     "cell_type": "markdown",
     "checksum": "3a58cb6d7898d03ebb9587b9b4fda4b1",
     "grade": false,
     "grade_id": "cell-b89ec7cd57121b35",
     "locked": true,
     "schema_version": 3,
     "solution": false,
     "task": false
    }
   },
   "source": [
    "**(c)**  [4] Show that under  the change of variables (linear scaling of the variables)\n",
    "\n",
    "$$\n",
    "\\begin{matrix}\n",
    "    S = N s, & I = Ni, & R = Nr, & t = \\tau\\frac{1}{\\alpha N} \\\\\n",
    "\\end{matrix}\n",
    "$$\n",
    "\n",
    "The original equations can be rewritten as the scaled equations \n",
    "\n",
    "$$\n",
    "\\begin{align}\n",
    "    \\frac{d s}{d\\tau} &= -si\\\\\n",
    "    \\frac{d i}{d\\tau} &= (s - s^*)i  \\\\\n",
    "    \\frac{d r}{d\\tau} & = s^* i \\\\\n",
    "\\end{align}\n",
    "$$\n",
    "\n",
    "where \n",
    "$$\n",
    "    s^* = \\frac{\\beta}{\\alpha N}\n",
    "$$\n",
    "\n",
    "\n",
    "\n",
    "**Notes**,  \n",
    "* if we write $s = S/N$ etc. then $s$ is simply the fraction of the total population that is susceptible.  \n",
    "* Also show that $s + i + r = 1$.\n",
    "* this scaling reduces a two-parameter problem to a one parameter problem where the only variable is $s^*$\n",
    "\n"
   ]
  },
  {
   "cell_type": "markdown",
   "metadata": {
    "deletable": false,
    "nbgrader": {
     "cell_type": "markdown",
     "checksum": "8c3c68b4bd0e77099fcee9fcae1a50a3",
     "grade": true,
     "grade_id": "cell-6f14e3bb8e908989",
     "locked": false,
     "points": 4,
     "schema_version": 3,
     "solution": true,
     "task": false
    }
   },
   "source": [
    "We can show $s + i + r = 1$ by using S + I + R = N:\n",
    "\n",
    "$$\n",
    "\\begin{aligned}\n",
    "s + i + r &= S/N + I/N + R/N \\\\\n",
    "s + i + r &= \\frac{S + I + R}{N} \\\\\n",
    "s + i + r &= N/N \\\\\n",
    "s + i + r &= 1 \\\\\n",
    "\\end{aligned}\n",
    "$$\n",
    "\n",
    "And use the original system and the new variables:\n",
    "\n",
    "$$ \n",
    "\\begin{aligned}\n",
    "s &= - (\\alpha Ns Ni \\tau\\frac{1}{\\alpha N} + C_S) / N \\\\\n",
    "  &= - si \\tau + C_{S1} \\\\\n",
    "i &= (\\alpha Ns Ni \\tau\\frac{1}{\\alpha N} - \\beta Ni \\tau\\frac{1}{\\alpha N} + C_I) / N \\\\\n",
    "  &= si \\tau - \\frac{\\beta i \\tau}{\\alpha N} + C_{I1} \\\\\n",
    "r &= (\\beta Ni \\tau\\frac{1}{\\alpha N} + C_R) / N \\\\\n",
    "  &= \\frac{\\beta i \\tau}{\\alpha N} + C_{R1} \\\\\n",
    "\\end{aligned}\n",
    "$$\n",
    "\n",
    "Can then find the derivatives to write the scaled equations, and $s^*$:\n",
    "\n",
    "$$ \n",
    "\\begin{aligned}\n",
    "\\frac{d s}{d\\tau} &= - si \\\\\n",
    "\\frac{d i}{d\\tau} &= si - \\frac{\\beta i}{\\alpha N} = (s - s^*) i \\\\\n",
    "\\frac{d r}{d\\tau} &= \\frac{\\beta i}{\\alpha N} = s^* i \\\\\n",
    "\\end{aligned}\n",
    "$$"
   ]
  },
  {
   "cell_type": "markdown",
   "metadata": {
    "deletable": false,
    "editable": false,
    "nbgrader": {
     "cell_type": "markdown",
     "checksum": "17cba206e05e72a92b6b537e5e13f9f4",
     "grade": false,
     "grade_id": "cell-46af647b89cac330",
     "locked": true,
     "schema_version": 3,
     "solution": false,
     "task": false
    }
   },
   "source": [
    "**(d)**  [2] Given that $s^*$ is a constant that only depends on the infection rate per capita $\\alpha$, the recovery rate $\\beta$ and the total population $N$,  interpret the equation for the change in the number of infections\n",
    "\n",
    "$$\n",
    "    \\frac{d i}{d\\tau} = (s - s^*) i\n",
    "$$\n",
    "as a function of the susceptible fraction of the population $s$."
   ]
  },
  {
   "cell_type": "markdown",
   "metadata": {
    "deletable": false,
    "nbgrader": {
     "cell_type": "markdown",
     "checksum": "ab726ca04cc86cb954bcf52e38069414",
     "grade": true,
     "grade_id": "cell-40ede972a75cd41a",
     "locked": false,
     "points": 2,
     "schema_version": 3,
     "solution": true,
     "task": false
    }
   },
   "source": [
    "The change of number of infections in relation to the susceptible population is equal to the fraction of infected patients times the difference of the fraction of susceptible people in population and the rate of people that get infected divided by the rate that recover. If our difference is positive then we have more recovered than infections. S star is the proportion of infection rate over recovery rate, meaning that a smaller s star is ideal from a public health standpoint. "
   ]
  },
  {
   "cell_type": "markdown",
   "metadata": {
    "deletable": false,
    "editable": false,
    "nbgrader": {
     "cell_type": "markdown",
     "checksum": "f14f45e92d83b36ddd331cadf0135ee5",
     "grade": false,
     "grade_id": "cell-4ecd957efe129fa5",
     "locked": true,
     "schema_version": 3,
     "solution": false,
     "task": false
    }
   },
   "source": [
    "### Numerical Methods\n",
    "\n",
    "we will now explore the behavior of this model numerically using a range of our basic algorithms by solving the scaled dynamical system\n",
    "\n",
    "$$\n",
    "    \\frac{d\\mathbf{u}}{dt} = \\mathbf{F}(t,\\mathbf{u}, s^*),\\quad\\mathbf{u}(0)=\\mathbf{u}_0\n",
    "$$\n",
    "\n",
    "where \n",
    "$$\n",
    "    \\mathbf{u} = \\begin{bmatrix} s \\\\ i \\\\ r \\\\ \\end{bmatrix}, \\quad \n",
    "    \\mathbf{F}(t,\\mathbf{u},s^*) = \\begin{bmatrix} -si \\\\ (s - s^*)i \\\\ s^*i \\\\ \\end{bmatrix}\n",
    "$$"
   ]
  },
  {
   "cell_type": "markdown",
   "metadata": {},
   "source": [
    "**(e)** [4] Write function to return the RHS of the scaled dynamical system $\\mathbf{F}(t,\\mathbf{u},s^*)$ as a numpy array"
   ]
  },
  {
   "cell_type": "code",
   "execution_count": 16,
   "metadata": {
    "deletable": false,
    "hide_input": false,
    "nbgrader": {
     "cell_type": "code",
     "checksum": "97094ce0210c5618cf05d1e6a2782f90",
     "grade": false,
     "grade_id": "cell-262f28b1e5913ee6",
     "locked": false,
     "schema_version": 3,
     "solution": true,
     "task": false
    }
   },
   "outputs": [],
   "source": [
    "def F(t, u, s_star):\n",
    "    \"\"\" RHS of scaled SIR model of Kermack and McKendrick\n",
    "    \n",
    "    parameters\n",
    "    ----------\n",
    "        t: float\n",
    "            time (just a dummy variable here because this is an autonomous system)\n",
    "        u: numpy array\n",
    "            array of scaled [ s, i, r ] values such that sum(u) = 1 \n",
    "            (and s,i, r are fractions of the total population N)\n",
    "        s_star: float\n",
    "            scaled critical susceptible population = \\beta/(\\alpha N)\n",
    "            \n",
    "    returns:\n",
    "        F(u): numpy array\n",
    "    \"\"\"\n",
    "    s = u[0] \n",
    "    i = u[1]\n",
    "    r = u[2]\n",
    "    \n",
    "    F = numpy.array([-s * i,\n",
    "                    (s - s_star)* i,\n",
    "                    s_star*i])\n",
    "    \n",
    "    return F \n",
    "    \n",
    "                     \n",
    "    "
   ]
  },
  {
   "cell_type": "code",
   "execution_count": 17,
   "metadata": {
    "deletable": false,
    "editable": false,
    "hide_input": false,
    "nbgrader": {
     "cell_type": "code",
     "checksum": "12fac581407142514fda702e3b5a978b",
     "grade": true,
     "grade_id": "cell-072d933c0fd03951",
     "locked": true,
     "points": 4,
     "schema_version": 3,
     "solution": false,
     "task": false
    }
   },
   "outputs": [
    {
     "name": "stdout",
     "output_type": "stream",
     "text": [
      "success!\n"
     ]
    }
   ],
   "source": [
    "# Let's assume the critical level of immunity is 60% of the total population\n",
    "s_star = 0.6\n",
    "\n",
    "# let there initially be .01 % infected cases and no recovered\n",
    "t = 0.\n",
    "i_0 = 1.e-4\n",
    "u_0 = numpy.array([1. - i_0, i_0, 0.0])\n",
    "answer = numpy.array([-9.999000000000001e-05,  3.999000000000001e-05, 6.000000000000000e-05])\n",
    "numpy.testing.assert_allclose(F(t, u_0, s_star), answer)\n",
    "print('success!')"
   ]
  },
  {
   "cell_type": "markdown",
   "metadata": {
    "deletable": false,
    "editable": false,
    "nbgrader": {
     "cell_type": "markdown",
     "checksum": "323ccd8f079ed8cdcff01a8adb5cb12b",
     "grade": false,
     "grade_id": "cell-4822191656183239434",
     "locked": true,
     "schema_version": 3,
     "solution": false
    }
   },
   "source": [
    "**(f)** [10] Use scipy.integrate.solve_ivp (imported above as solve_ivp),  to solve the scaled dynamical system above with for <font color=\"red\">$s^* = 0.6$</font> and initial condition\n",
    "\n",
    "$$\n",
    "    \\mathbf{u}_0 = \\begin{bmatrix} 1 - i_0\\\\ i_0 \\\\ 0\\\\ \\end{bmatrix}\n",
    "$$\n",
    "\n",
    "where $i_0=10^{-5}$ is the initially infected proportion of the available population $N$\n",
    "\n",
    "Integrate for $t\\in[0, 50]$ and make a plot showing the evolution of $s(t)$, $i(t)$, ${r}(t)$ vs. time \n",
    "\n",
    "**For full credit your plot should show the following**\n",
    "* show the actual time-steps chosen by the adaptive solver as well as a smooth solution (use dense_output=True) \n",
    "* the total cumulative number of cases at any time\n",
    "* the time and infection level of the peak of the infection (hint: use the `events`, feature of solve_ivp)\n",
    "* the maximum fraction of people infected at $t=50$\n",
    "\n",
    "Explore the behavior of the solutions as a function of $s^*$ and $i_0$ and try to \"flatten the curve\" (we will try to make that more quantitative later). Also,  explore relative and absolute tolerances to convince yourself that your solutions are well resolved."
   ]
  },
  {
   "cell_type": "code",
   "execution_count": 29,
   "metadata": {
    "deletable": false,
    "hide_input": false,
    "nbgrader": {
     "cell_type": "code",
     "checksum": "f2bf5e8f1c26302e22265c386e195c9b",
     "grade": true,
     "grade_id": "cell-2d91985a44491d34",
     "locked": false,
     "points": 10,
     "schema_version": 3,
     "solution": true,
     "task": false
    }
   },
   "outputs": [
    {
     "data": {
      "image/png": "[encoded data removed]",
      "text/plain": [
       "<Figure size 720x432 with 1 Axes>"
      ]
     },
     "metadata": {
      "needs_background": "light"
     },
     "output_type": "display_data"
    }
   ],
   "source": [
    "\n",
    "s_star = 0.6\n",
    "i0 = 1.e-5\n",
    "t_span = (0., 50)  # can we index it here so that it is more smooth?\n",
    "u0 = [1.-i0,i0,0]\n",
    "f = lambda t, u, : F(t, u, s_star,)\n",
    "\n",
    "sol = solve_ivp(f, t_span, u0, dense_output=True)\n",
    "\n",
    "total_infections = sol.y[1]+ sol.y[2]\n",
    "t = numpy.linspace(0, 50)\n",
    "z = sol.sol(t)\n",
    "total_infections = z[1]+ z[2]\n",
    "#don't forget to include the constantly increasing number total infected  \n",
    "\n",
    "fig = plt.figure(figsize = (10, 6))\n",
    "axes = fig.add_subplot(1, 1, 1) \n",
    "\n",
    "axes.plot(t, z[0], 'o-', label= \"Susceptible\")\n",
    "axes.plot(t, z[1], 'o-', label= \"Infected\")\n",
    "axes.plot(t, z[2], 'o-', label = \"Recovered\")\n",
    "axes.plot(t, total_infections, 'o-', label = \"Cumulative infections\")\n",
    "\n",
    "axes.vlines(sol.t[7], 0, max(z[1]), linestyle = 'dashed', label= 'max infected at t=', color = 'k') \n",
    "axes.hlines(max(z[1]),0, 50, linestyle = 'dashed', label = 'total infections at t=26, 0.09% infected', color = 'r')\n",
    "axes.hlines(s_star, 0, 50, linestyle = 'dashed', label = '$s^*$', color = 'g')\n",
    "\n",
    "axes.set_title(\"Solve Scaled Dynamical System, $s^* = 0.6$, $i_0 = 10^{-5}$\", fontsize = 18) \n",
    "axes.set_xlabel(\"t\", fontsize = 16) \n",
    "axes.set_ylabel(\"Percentage of Population\", fontsize= 16) \n",
    "axes.legend() \n",
    "axes.grid() \n",
    "\n"
   ]
  },
  {
   "cell_type": "markdown",
   "metadata": {
    "deletable": false,
    "editable": false,
    "nbgrader": {
     "cell_type": "markdown",
     "checksum": "30d412ab682484e13aeb5dafe040b528",
     "grade": false,
     "grade_id": "cell-48221916561834547",
     "locked": true,
     "schema_version": 3,
     "solution": false
    }
   },
   "source": [
    "**(g)** [8] Write your own code to solve the same system using any constant step-size method we discussed in class that is higher than 2nd order (you can use or modify any of the example codes from the notes and make sure it works for vector valued functions.   Your code should be able to use your function $F$ defined above. Make sure to choose a method that will work for the non-linear right-hand-side. We will test it against the output from solve_ivp with N steps uniform steps in $t\\in[0,50]$.  What is the minimum number of steps does your routine take to pass the tests with a relative error of $10^{-4}$ and absolute error of $10^{-5}?.  You can control the number of steps taken with the `N=??` defined at the end of the cell.  **Extra Credit** determine the convergence rate of your method."
   ]
  },
  {
   "cell_type": "code",
   "execution_count": 66,
   "metadata": {
    "deletable": false,
    "hide_input": false,
    "nbgrader": {
     "cell_type": "code",
     "checksum": "13e09fcf965c1b3c41354c08f3f10977",
     "grade": false,
     "grade_id": "cell-918222306640123434",
     "locked": false,
     "schema_version": 3,
     "solution": true,
     "task": false
    }
   },
   "outputs": [],
   "source": [
    "def my_ode_solver(f, t_span, u0, N):\n",
    "    \"\"\" implement constant step size ODE integrator using a ________ method\n",
    "    \n",
    "    parameters\n",
    "    ----------\n",
    "        f: calleable\n",
    "            vector valued function with interface f(t,u) where u is the state vector\n",
    "        t_span: float list or array (or tuple)\n",
    "            array holding range of times to integrate over t_span = [ t_min, t_max]\n",
    "        u0:  numpy array\n",
    "            array of initial conditions\n",
    "        N: integer\n",
    "            number of time steps to take \n",
    "            \n",
    "    returns:\n",
    "    --------\n",
    "        t: numpy array\n",
    "            array of timesteps from t_min to t_max of length N\n",
    "        u: numpy array of shape (len(u0), len(t))\n",
    "            solution array,  the solution at timestep i should be u[:,i]\n",
    "    \"\"\"\n",
    "    \n",
    "    t = numpy.linspace(t_span[0], t_span[1], N) \n",
    "    delta_t = t[1] - t[0]\n",
    "    u = numpy.empty((N, len(u0))) # creating an N by 3 so that uknot fits into our u[0]\n",
    "    u[0] = u0\n",
    "\n",
    "    for (n, t_n) in enumerate(t[:-1]):\n",
    "        K_1 = delta_t * f(t_n, u[n])\n",
    "        K_2 = delta_t *f(t_n + delta_t/2., u[n] + K_1/2.)\n",
    "        K_3 = delta_t * f(t_n +delta_t/2., u[n] + K_2/2.)\n",
    "        K_4 = delta_t * f(t_n + delta_t, u[n] +K_3)\n",
    "        u[n+1] = u[n] + 1./6. * (K_1+ 2.*(K_2 +K_3)+K_4)\n",
    "    u = u.transpose()  # transposing to become the desired 3 by N \n",
    "    \n",
    "    \n",
    "    return t, u \n",
    "\n",
    "# you can control the number of steps used here\n",
    "N = 100 \n"
   ]
  },
  {
   "cell_type": "code",
   "execution_count": 67,
   "metadata": {},
   "outputs": [
    {
     "name": "stdout",
     "output_type": "stream",
     "text": [
      "Need at least 82 steps to reach the tolerance.\n"
     ]
    }
   ],
   "source": [
    "print(\"Need at least 82 steps to reach the tolerance.\")"
   ]
  },
  {
   "cell_type": "code",
   "execution_count": 68,
   "metadata": {
    "deletable": false,
    "editable": false,
    "hide_input": false,
    "nbgrader": {
     "cell_type": "code",
     "checksum": "f7be2a6e93a825a99f752ab8e4102652",
     "grade": true,
     "grade_id": "cell-918222306640124",
     "locked": true,
     "points": 8,
     "schema_version": 3,
     "solution": false,
     "task": false
    }
   },
   "outputs": [
    {
     "name": "stdout",
     "output_type": "stream",
     "text": [
      "success!\n"
     ]
    }
   ],
   "source": [
    "s_star = 0.6\n",
    "f = lambda t, u: F(t, u, s_star)\n",
    "\n",
    "t_span = [0., 50.]\n",
    "i_0 = 1.e-5\n",
    "u_0 = numpy.array([1. - i_0, i_0, 0.0])\n",
    "\n",
    "\n",
    "t, u = my_ode_solver(f, t_span, u_0, N)\n",
    "\n",
    "# There was a hidden line here implementing sol = solve_ivp to get the \"True\" solution\n",
    "sol = solve_ivp(f, t_span, u_0, method='RK45', dense_output=True, rtol=1.e-6, atol = 1.e-8)\n",
    "\n",
    "numpy.testing.assert_allclose(u, sol.sol(t), rtol=1.e-4, atol=1.e-5)\n",
    "print('success!')"
   ]
  },
  {
   "cell_type": "markdown",
   "metadata": {
    "deletable": false,
    "editable": false,
    "nbgrader": {
     "cell_type": "markdown",
     "checksum": "206ea91d42a6ed18738f8eb5e410ac6a",
     "grade": false,
     "grade_id": "cell-72ea6dc8a2813be7",
     "locked": true,
     "schema_version": 3,
     "solution": false,
     "task": false
    }
   },
   "source": [
    "**(h)** [2] Reproduce your figure from the scipy version (without events)"
   ]
  },
  {
   "cell_type": "code",
   "execution_count": 72,
   "metadata": {
    "deletable": false,
    "hide_input": false,
    "nbgrader": {
     "cell_type": "code",
     "checksum": "c7fbad01da98f1196ea96430b8c5cf0e",
     "grade": true,
     "grade_id": "cell-9182223066423o434",
     "locked": false,
     "points": 2,
     "schema_version": 3,
     "solution": true,
     "task": false
    }
   },
   "outputs": [
    {
     "data": {
      "image/png": "[encoded data removed]",
      "text/plain": [
       "<Figure size 1152x432 with 1 Axes>"
      ]
     },
     "metadata": {
      "needs_background": "light"
     },
     "output_type": "display_data"
    }
   ],
   "source": [
    "s_star = 0.6 \n",
    "f = lambda t, u: F(t, u, s_star) \n",
    "\n",
    "t_span = [0., 50.]\n",
    "i_0= 1.e-5\n",
    "u_0 = numpy.array([1. -i_0, i_0, 0.0])\n",
    "\n",
    "t, z = my_ode_solver(f, t_span, u_0, N)\n",
    "\n",
    "fig = plt.figure(figsize = (16, 6))\n",
    "axes = fig.add_subplot(1, 1, 1) \n",
    "\n",
    "axes.plot(t, z[0], 'o-', label= \"Susceptible\")\n",
    "axes.plot(t, z[1], 'o-', label= \"Infected\")\n",
    "axes.plot(t, z[2], 'o-', label = \"Recovered\")\n",
    "axes.plot(t, z[1] + z[2], 'o-', label = \"Cumulative infections\")\n",
    "\n",
    "axes.set_title(\"My_ODE_Solver, $s^* = 0.6$, $i_0 = 10^{-5}$\", fontsize = 18) \n",
    "axes.set_xlabel(\"t\", fontsize = 16) \n",
    "axes.set_ylabel(\"Percentage of Population\", fontsize= 16) \n",
    "axes.legend() \n",
    "axes.grid() \n"
   ]
  },
  {
   "cell_type": "markdown",
   "metadata": {
    "deletable": false,
    "editable": false,
    "nbgrader": {
     "cell_type": "markdown",
     "checksum": "d274a3b7092e944b682f734b980362b3",
     "grade": false,
     "grade_id": "cell-062d990b667d61f1",
     "locked": true,
     "schema_version": 3,
     "solution": false,
     "task": false
    }
   },
   "source": [
    "###  Themes and Variations -- Some project ideas\n",
    "\n",
    "The classical Kermack and McKendric model is only one of a vast set of models used to model the spread of infection disease but assumes homogeneous mixing across the entire population.  In addition there are lots of things  to explore with even the simplest SIR model.   If you are interested in this sort of ODE model as a possible project, here are a few things you might want to explore\n",
    "\n",
    "\n",
    "* Choose a fixed value of $N$ for the maximum susceptible population. Assume that maximum hospital capacity is achieved when the number of infected patients reaches $i_{max}$.  Construct a root-finding problem to find the value of $s^*$ required to keep  the peak number of infected cases $i_{peak} <= i_{max}$. \n",
    "\n",
    "* Consider the possibility of re-infection (ugh!).  One model of this assumes that recovered patients can become susceptible again at some rate $\\lambda$.  Modify the original SIR model to include this possibility and construct a new scaled set of equations.  This will now be a 2 parameter dynamical system ($s^*$ and another parameter say $\\lambda^*$.  Explore the behavior of this new problem.\n",
    "\n",
    "* Develop a model that includes the effects of vaccinations\n",
    "\n",
    "* Show that the original SIR model allows at most one peak in infections.  Then try to construct a better model that allows multiple peaks.\n",
    "\n",
    "* Read [Siettos and Russo, (2013)](https://doi.org/10.4161/viru.24041) (or find a better paper) which reviews a range of epidemiology models including Stochastic SIR models. Wikipedia also has several pages on modeling epidemics ([here](https://en.wikipedia.org/wiki/Compartmental_models_in_epidemiology) , and [here](https://en.wikipedia.org/wiki/Mathematical_modelling_of_infectious_disease)) Pick another model, implement it and compare it's behavior with the basic SIR model.\n",
    "\n",
    "* Something Numerical: Write an adaptive time stepper built around any two single-step multi-stage schemes and compare your solution to solve_ivp.\n",
    "\n",
    "* Your own best ideas!\n",
    "\n"
   ]
  },
  {
   "cell_type": "markdown",
   "metadata": {
    "deletable": false,
    "editable": false,
    "nbgrader": {
     "cell_type": "markdown",
     "checksum": "f82640bdadf4ecd7d32406fba71374a3",
     "grade": false,
     "grade_id": "cell-c54586fa263cc449",
     "locked": true,
     "schema_version": 3,
     "solution": false,
     "task": false
    }
   },
   "source": [
    "## Question 2 - Absolute Stability Regions Single-Step Multi-stage schemes"
   ]
  },
  {
   "cell_type": "markdown",
   "metadata": {
    "deletable": false,
    "editable": false,
    "nbgrader": {
     "cell_type": "markdown",
     "checksum": "4c43299a2318bf213b6514e7fe8ac79a",
     "grade": false,
     "grade_id": "cell-dd9d7792263258d8",
     "locked": true,
     "schema_version": 3,
     "solution": false,
     "task": false
    }
   },
   "source": [
    "**(a)** [4 pt] Taylor Series method:\n",
    "    \n",
    "Show that $R(z)$ for a Taylor's series method of order $p$ acting on the model problem $u'=\\lambda u$ always just returns the first $p+1$ terms of the Taylor series of $e^z$."
   ]
  },
  {
   "cell_type": "markdown",
   "metadata": {
    "deletable": false,
    "nbgrader": {
     "cell_type": "markdown",
     "checksum": "f5bb5b09ab8d30954162f309886ebf0c",
     "grade": true,
     "grade_id": "cell-1ca065b824f2cbb0",
     "locked": false,
     "points": 4,
     "schema_version": 3,
     "solution": true,
     "task": false
    }
   },
   "source": [
    "We have the Taylor series $e^z = 1 + z + \\frac{z^2}{2!} + \\frac{z^3}{3!} + ... + \\frac{z^n}{n!}$. We also have that $U(\\Delta t) = R(z) U_0$, where $U$ is the discrete approximation. Then..\n",
    "$$U(\\Delta t) = e^{\\lambda \\Delta t} U_0 = \\left [ 1 + \\lambda \\Delta t + \\frac{\\lambda \\Delta t^2}{2!} + \\frac{\\lambda \\Delta t^3}{3!} + ... + \\frac{\\lambda \\Delta t^n}{n!} \\right ] U_0$$\n",
    "Since $z = \\lambda \\Delta t$:\n",
    "$$R(z) = 1 + z + \\frac{z^2}{2!} + \\frac{z^3}{3!} + ... + \\frac{z^n}{n!}$$\n",
    "This shows that with an order of n, $R(z)$ return n + 1 terms (because for any order Taylor series, there is always one more term than the order since it starts with 1)."
   ]
  },
  {
   "cell_type": "markdown",
   "metadata": {
    "deletable": false,
    "editable": false,
    "nbgrader": {
     "cell_type": "markdown",
     "checksum": "2d9eb1124c7bc577827b093264976e64",
     "grade": false,
     "grade_id": "cell-273021c1878d0b00",
     "locked": true,
     "schema_version": 3,
     "solution": false,
     "task": false
    }
   },
   "source": [
    "**(b)** [4 pt] Plot the regions of absolute stability for Taylor Series methods of order 2-5\n",
    "\n",
    "You can use the plotting codes given in class and included in the file stability_diagrams.py which are imported in the first cell"
   ]
  },
  {
   "cell_type": "code",
   "execution_count": 31,
   "metadata": {
    "deletable": false,
    "nbgrader": {
     "cell_type": "code",
     "checksum": "b1a3a886fcf13a05d017a97dbe14733a",
     "grade": true,
     "grade_id": "cell-9c688399c72e251a",
     "locked": false,
     "points": 4,
     "schema_version": 3,
     "solution": true,
     "task": false
    }
   },
   "outputs": [
    {
     "data": {
      "image/png": "[encoded data removed]",
      "text/plain": [
       "<Figure size 864x864 with 8 Axes>"
      ]
     },
     "metadata": {
      "needs_background": "light"
     },
     "output_type": "display_data"
    }
   ],
   "source": [
    "def stability_plot(X, Y, C, axes, title=None, continuous=True):\n",
    "    \"\"\"\n",
    "    Utility function to make stability diagram given complex stability scalar C\n",
    "    \n",
    "    parameters:\n",
    "    -----------\n",
    "    \n",
    "    X, Y:  numpy.meshgrids for complex plane\n",
    "    C: numpy array\n",
    "        Field to plot,  either |R(z)| for a single step scheme, or max(|xi_i(z)|) for a LMM scheme\n",
    "    axes: matplotlib axes object\n",
    "        subplot or plot to draw in. \n",
    "    title: string\n",
    "        subplot title if not None \n",
    "    continuous: boolean\n",
    "        if True, plot a continous coloring of C\n",
    "        if False, plot Heaviside(C)\n",
    "    \"\"\"\n",
    "    if  continuous:\n",
    "        Ch = C\n",
    "    else:\n",
    "        Ch = numpy.heaviside(C-1,0.)\n",
    "    pcolor_plot = axes.pcolor(X, Y, Ch, vmin=0, vmax=1, cmap=plt.get_cmap('Greens_r'), shading='auto')\n",
    "    axes.contour(X, Y, C, 'k', levels=[1.0])\n",
    "    fig = plt.gcf()\n",
    "    fig.colorbar(pcolor_plot)\n",
    "    axes.plot(x, numpy.zeros(x.shape),'k--')\n",
    "    axes.plot(numpy.zeros(y.shape), y,'k--')\n",
    "    \n",
    "    axes.set_xlabel('Re', fontsize=16)\n",
    "    axes.set_ylabel('Im', fontsize=16)\n",
    "    if title is not None:\n",
    "        axes.set_title(title, fontsize=16)\n",
    "    \n",
    "    axes.set_aspect('equal')    \n",
    "    \n",
    "def plot_stability_ssms(R, x, y, axes=None, title=None, continuous=True):\n",
    "    \"\"\" \n",
    "    plot stability regions for single-step multi-stage ODE schemes given the function R(z)\n",
    "    such that U_{n+1} = R(z)U_n   and z is complex\n",
    "    \n",
    "    parameters:\n",
    "    -----------\n",
    "    \n",
    "    R: calleable\n",
    "        function of a complex variable z such that if |R|<=1, the scheme is absolutely stable\n",
    "    x: numpy array\n",
    "        array of values for the real axis\n",
    "    y: numpy array\n",
    "        values to plot for the imaginary axis\n",
    "    axes: matplotlib axes object\n",
    "        subplot or plot to draw in.  If axes=None create a new figure\n",
    "    title: string\n",
    "        subplot title if \n",
    "    continuous: boolean\n",
    "        if True, plot a continous coloring of C\n",
    "        if False, plot Heaviside(C)\n",
    "    \"\"\"\n",
    "    \n",
    "    X,Y = numpy.meshgrid(x,y)\n",
    "    Z = X + 1j * Y\n",
    "    if axes is None:\n",
    "        fig = plt.figure(figsize=(8,6))\n",
    "        axes = fig.add_subplot(1,1,1)\n",
    "    \n",
    "    abs_R = numpy.abs(R(Z))\n",
    "    stability_plot(X, Y, abs_R, axes, title, continuous)\n",
    "    \n",
    "def plot_stability_lmm(pi_coeff, x, y, axes=None, title=None, continuous=True):\n",
    "    \"\"\" \n",
    "    plot stability regions for linear multi-step  ODE schemes given the coefficients of the stability polynomial\n",
    "    pi(xi, z)\n",
    "    \n",
    "    parameters:\n",
    "    -----------\n",
    "    \n",
    "    pi_coeff: calleable (function of z)\n",
    "        function that returns array of stability polynomial pi(z)\n",
    "    x: numpy array\n",
    "        array of values for the real axis\n",
    "    y: numpy array\n",
    "        values to plot for the imaginary axis\n",
    "    axes: matplotlib axes object\n",
    "        subplot or plot to draw in.  If axes=None create a new figure\n",
    "    title: string\n",
    "        subplot title if not None   \n",
    "    continuous: boolean\n",
    "        if True, plot a continous coloring of C\n",
    "        if False, plot Heaviside(C)\n",
    "    \"\"\"\n",
    "       \n",
    "    X,Y = numpy.meshgrid(x,y)\n",
    "    Z = X + 1j * Y\n",
    "    if axes is None:\n",
    "        fig = plt.figure(figsize=(8,6))\n",
    "        axes = fig.add_subplot(1,1,1)\n",
    "    \n",
    "    norm_max = numpy.empty(Z.shape)\n",
    "    for i,row in enumerate(Z):\n",
    "        for j, z in enumerate(row):\n",
    "            norm_max[i,j] = max(numpy.abs(numpy.roots(pi_coeff(z))))\n",
    "    \n",
    "    stability_plot(X, Y, norm_max, axes, title, continuous)\n",
    "    \n",
    "x = numpy.linspace(-4,4,100)\n",
    "y = numpy.linspace(-4,4,100)\n",
    "\n",
    "R_Taylor2 = lambda z: 1 + z + (z**2)/2.\n",
    "R_Taylor3 = lambda z: 1 + z + (z**2)/2. + z**3/6.\n",
    "R_Taylor4 = lambda z: 1 + z + z**2/2 + z**3/6. + z**4/24.\n",
    "R_Taylor5 = lambda z: 1 + z + z**2/2 + z**3/6. + z**4/24. + z**5/120\n",
    "\n",
    "continuous=True\n",
    "\n",
    "fig = plt.figure(figsize=(12,12))\n",
    "axes = fig.add_subplot(2,2,1)\n",
    "plot_stability_ssms(R_Taylor2, x, y, axes=axes, title='Stability of Taylor Second Order', continuous=continuous)\n",
    "\n",
    "axes = fig.add_subplot(2,2,2)\n",
    "plot_stability_ssms(R_Taylor3, x, y, axes=axes, title='Stability of Taylor Third Order', continuous=continuous)\n",
    "\n",
    "axes = fig.add_subplot(2,2,3)\n",
    "plot_stability_ssms(R_Taylor4, x, y, axes=axes, title='Stability of Taylor4 Method', continuous=continuous)\n",
    "\n",
    "axes = fig.add_subplot(2,2,4)\n",
    "plot_stability_ssms(R_Taylor5, x, y, axes=axes, title='Stability of Taylor5 method', continuous=continuous)\n"
   ]
  },
  {
   "cell_type": "markdown",
   "metadata": {
    "deletable": false,
    "editable": false,
    "nbgrader": {
     "cell_type": "markdown",
     "checksum": "4cd9edb39602b50c79729aed18509454",
     "grade": false,
     "grade_id": "cell-cf67bcdf6e56f88a",
     "locked": true,
     "schema_version": 3,
     "solution": false,
     "task": false
    }
   },
   "source": [
    "**(b)** [4 pt] Derive $R(z)$ for the RK2 method and show that it is equivalent to Taylor 2\n",
    "\n",
    "**Extra Credit**  show that $R(Z)$ for RK4 is identical to Taylor-4 (in general this is true for explicit RK methods)"
   ]
  },
  {
   "cell_type": "markdown",
   "metadata": {
    "deletable": false,
    "nbgrader": {
     "cell_type": "markdown",
     "checksum": "f8c04e94acf46b8f5bcda7c6529a4263",
     "grade": true,
     "grade_id": "cell-ccd05ce9cfbb3ae0",
     "locked": false,
     "points": 4,
     "schema_version": 3,
     "solution": true,
     "task": false
    }
   },
   "source": [
    "$$ U_{n+1} = U_n + \\Delta t f(U_n + \\frac{1}{2} \\Delta t f (U_n)) \\Rightarrow$$\n",
    "\n",
    "$$ U_{n+1} = U_n + \\Delta t \\lambda (U_n + \\frac{1}{2} \\Delta t \\lambda (U_n)) \\Rightarrow$$\n",
    "\n",
    "Since $z = \\lambda\\Delta t$\n",
    "\n",
    "$$ U_{n+1} = U_n + z (U_n + \\frac{1}{2} z (U_n)) \\Rightarrow$$\n",
    "\n",
    "$$ U_{n+1} = U_n + U_n z + \\frac{1}{2} (U_n)  z^2 \\Rightarrow$$\n",
    "\n",
    "$$ R(z) = 1 + z + \\frac{z^2}{2}$$\n",
    "\n",
    "Taylor 2 is equal to $1 + z + \\frac{z^2}{2}$ so the RK2 method is equivalent to Taylor 2.\n"
   ]
  },
  {
   "cell_type": "markdown",
   "metadata": {
    "deletable": false,
    "editable": false,
    "nbgrader": {
     "cell_type": "markdown",
     "checksum": "2c28bcfd375e36c5a93c5e612a16554b",
     "grade": false,
     "grade_id": "cell-74f9c58c7046a7cd",
     "locked": true,
     "schema_version": 3,
     "solution": false
    }
   },
   "source": [
    "## Question 3: Linear Multi-Step Schemes - Derivation and stability"
   ]
  },
  {
   "cell_type": "markdown",
   "metadata": {
    "deletable": false,
    "editable": false,
    "nbgrader": {
     "cell_type": "markdown",
     "checksum": "47a6d4aec9010957daf12f68478fe21a",
     "grade": false,
     "grade_id": "cell-74f9c58c7a7cd",
     "locked": true,
     "schema_version": 3,
     "solution": false
    }
   },
   "source": [
    "[4] Derive the Adams-Moulton 2-step method \n",
    "$$\n",
    "    U_{n+2} = U_{n+1} + \\frac{\\Delta t}{12} (-f_{n} + 8 f_{n+1} + 5 f_{n+2}),\n",
    "$$\n",
    "\n",
    "and its error estimate using the formula for the truncation error of general multi-step schemes\n",
    "$$\n",
    "\\begin{aligned}\n",
    "    T(t, u; \\Delta t) &= \\frac{1}{\\Delta t}\\left( \\sum^r_{j=0} \\alpha_j\\right) u(t_n) + \\left(\\sum^r_{j=0} (j\\alpha_j - \\beta_j)\\right) u'(t_n) + \\Delta t \\left(\\sum^r_{j=0} \\left (\\frac{1}{2}j^2 \\alpha_j - j \\beta_j \\right) \\right) u''(t_n) \\\\\n",
    "& \\quad \\quad + \\cdots + \\Delta t^{q - 1} \\left (\\sum^r_{j=0} \\left(\\frac{1}{q!} j^q \\alpha_j - \\frac{1}{(q-1)!} j^{q-1} \\beta_j \\right) \\right) u^{(q)}(t_n) + \\cdots\n",
    "\\end{aligned}$$\n",
    "\n",
    "i.e. find $\\alpha_j$s and $\\beta_j$s that zero out terms of the truncation error out to some order.\n",
    "Some Hint's \n",
    "* This is an Adams scheme with three levels so we already know the $\\alpha$'s\n",
    "* Therefore you only have to find the three $\\beta$'s $\\beta_0$, $\\beta_1$ and $\\beta_2$\n",
    "* Use the above formula to find 3 equations for the 3 values of $\\beta$\n",
    "* The remainder term will be the order of the Truncation error"
   ]
  },
  {
   "cell_type": "markdown",
   "metadata": {
    "deletable": false,
    "nbgrader": {
     "cell_type": "markdown",
     "checksum": "326a9861def06d4f11a07ffdde556ac4",
     "grade": true,
     "grade_id": "cell-415a1f1008c1",
     "locked": false,
     "points": 4,
     "schema_version": 3,
     "solution": true
    }
   },
   "source": [
    "At q = 1, our truncation error is $$T(t, u; \\Delta t) = \\frac{1}{\\Delta t}\\left( \\sum^r_{j=0} \\alpha_j\\right) u(t_n) + \\left(\\sum^r_{j=0} (j\\alpha_j - \\beta_j)\\right) u^\\prime(t_n)$$\n",
    "\n",
    "Since this is an Adams scheme, our $\\alpha$'s are $\\alpha = 0, \\alpha_1 = -1$, and $\\alpha_2 = 1$ thus $$\\sum^2_{j=0} \\alpha_j = 0.$$\n",
    "\n",
    "Now we have $$\\sum^2_{j=0} \\frac{1}{q!} j^{q} \\alpha_j - \\frac{1}{(q-1)!} j^{q-1} \\beta_j = 0.$$\n",
    "\n",
    "For q = 1, we have $$\\sum^2_{j=0} j \\alpha_j - \\beta_j = \\beta_0 - 1 - \\beta_1 + 2 - \\beta_2 = -\\beta_0 - \\beta_1 - \\beta_2 + 1 = 0$$\n",
    "\n",
    "For q = 2, we have $$\\sum^2_{j=0} \\frac{1}{2} j^2 \\alpha_j - j \\beta_j = -\\frac{1}{2} - \\beta_1 + 2 -2 \\beta_2 = -\\beta_1 - 2 \\beta_2 + \\frac{3}{2} = 0$$\n",
    "\n",
    "For q = 3, we have $$\\sum^2_{j=0} \\frac{1}{6} j^3 \\alpha_j - \\frac{1}{2}j^2 \\beta_j = -\\frac{1}{6} - \\frac{1}{2} \\beta_1 +\\frac{4}{3} - 2 \\beta_2 = -\\frac{1}{2} \\beta_1 -2\\beta_2 + \\frac{7}{6} = 0$$\n",
    "\n",
    "We get the following system of equations: \n",
    "$$\n",
    "\\begin{aligned}\n",
    "-\\beta_0 - \\beta_1 - \\beta_2 + 1 = 0 \\\\\n",
    "-\\beta_1 - 2 \\beta_2 + \\frac{3}{2} = 0\\\\\n",
    "-\\frac{1}{2} \\beta_1 -2\\beta_2 + \\frac{7}{6} = 0 \\\\\n",
    "\\end{aligned}\n",
    "$$\n",
    "\n",
    "Thus, \n",
    "$$\n",
    "\\begin{aligned}\n",
    "\\beta_0 = -\\frac{1}{12} \\\\\n",
    "\\beta_1 = \\frac{2}{3} \\\\\n",
    "\\beta_2 = \\frac{5}{12} \\\\\n",
    "\\end{aligned}\n",
    "$$"
   ]
  },
  {
   "cell_type": "markdown",
   "metadata": {
    "deletable": false,
    "editable": false,
    "nbgrader": {
     "cell_type": "markdown",
     "checksum": "a5d121d00d0b95a703d5b8a6c78f261e",
     "grade": false,
     "grade_id": "cell-5fc238aba385d265",
     "locked": true,
     "schema_version": 3,
     "solution": false,
     "task": false
    }
   },
   "source": [
    "**(c)** [8] Stability polynomials and Diagrams\n",
    "\n",
    "Calculate the stability polynomial and plot the stability regions for\n",
    "1. 2-step Adams-Moulton methods.\n",
    "1. 3-step Adams-Bashforth methods\n",
    "\n",
    "which are both 3rd-order methods.  Comment on the relative size of stability regions of these two methods and Taylor-3."
   ]
  },
  {
   "cell_type": "markdown",
   "metadata": {
    "deletable": false,
    "nbgrader": {
     "cell_type": "markdown",
     "checksum": "ccd22ea267673785077f4e38f2b3db22",
     "grade": true,
     "grade_id": "cell-35754117816ff2dd",
     "locked": false,
     "points": 4,
     "schema_version": 3,
     "solution": true,
     "task": false
    }
   },
   "source": [
    "stability polynomial = $\\pi(\\xi,z)$\n",
    "\n",
    "2-step Adams-Moulton methods: $$U_{n+2} = U_{n+1} + \\frac{\\Delta t}{12} (-f(U_n) + 8f(U_{n+1}) + 5f(U_{n+2})) $$\n",
    "\n",
    "$$U_{n+2} = U_{n+1} + \\frac{- \\Delta t f(U_n)}{12} + \\frac{2 \\Delta t f(U_{n+1})}{3} + \\frac{5 \\Delta t f(U_{n+2})}{12}$$\n",
    "\n",
    "$$U_{n+2} - U_{n+1} + \\frac{\\Delta t \\lambda(U_n)}{12} - \\frac{2 \\Delta t \\lambda(U_{n+1})}{3} - \\frac{5 \\Delta t \\lambda(U_{n+2})}{12} = 0$$\n",
    "\n",
    "$$U_{n+2}(1 - \\frac{5 \\Delta t \\lambda}{12}) - U_{n+1}(1 + \\frac{2 \\Delta t \\lambda}{3}) + U_n\\frac{\\Delta t \\lambda}{12} = 0$$\n",
    "\n",
    "Since $z = \\lambda\\Delta t$ and $U_n=\\xi^n$,\n",
    "\n",
    "$$\\pi(\\xi,z) = \\xi^2(1 - \\frac{5 z}{12}) - \\xi(1 + \\frac{2 z}{3}) + \\frac{z}{12}$$ which has roots when $$(1 - \\frac{5 z}{12}) \\xi^2 - (1 + \\frac{2 z}{3}) \\xi + \\frac{z}{12} = 0$$\n",
    "\n",
    "3-step Adams-Bashforth methods: $$U_{n+3} = U_{n+2} + \\frac{\\Delta t}{12} (5 f(U_n) - 16 f(U_{n+1}) + 23 f(U_{n+2}))$$\n",
    "\n",
    "$$U_{n+3} = U_{n+2} + \\frac{5 \\Delta t f(U_n)}{12} - \\frac{4 \\Delta t f(U_{n+1})}{3} + \\frac{23 \\Delta t f(U_{n+2})}{12}$$\n",
    "\n",
    "$$U_{n+3} - U_{n+2} - \\frac{5 \\Delta t \\lambda(U_n)}{12} + \\frac{4 \\Delta t \\lambda (U_{n+1})}{3} - \\frac{23 \\Delta t \\lambda(U_{n+2})}{12}$$\n",
    "\n",
    "$$U_{n+3} - U_{n+2}(1 + \\frac{23 \\Delta t \\lambda}{12}) + U_{n+1}\\frac{4 \\Delta t \\lambda}{3} - U_n \\frac{5 \\Delta t \\lambda}{12} = 0$$\n",
    "\n",
    "$$\\pi(\\xi,z) = \\xi^3 - \\xi^2(1 + \\frac{23 z}{12}) + \\xi \\frac{4 z}{3} - \\frac{5 z}{12}$$ which has roots when $$\\xi^3 - (1 + \\frac{23 z}{12})\\xi^2 + \\frac{4 z}{3} \\xi - \\frac{5 z}{12} = 0$$"
   ]
  },
  {
   "cell_type": "code",
   "execution_count": 35,
   "metadata": {
    "deletable": false,
    "nbgrader": {
     "cell_type": "code",
     "checksum": "dff12e08aba9ba3313d6421cd3a11cad",
     "grade": true,
     "grade_id": "cell-bb5d48ede7f2d8f4",
     "locked": false,
     "points": 4,
     "schema_version": 3,
     "solution": true,
     "task": false
    }
   },
   "outputs": [
    {
     "data": {
      "image/png": "[encoded data removed]",
      "text/plain": [
       "<Figure size 864x864 with 4 Axes>"
      ]
     },
     "metadata": {
      "needs_background": "light"
     },
     "output_type": "display_data"
    }
   ],
   "source": [
    "x1 = numpy.linspace(-10, 10, 100)\n",
    "y1 = numpy.linspace(-10, 10, 100)\n",
    "x2 = numpy.linspace(-2, 2, 100) \n",
    "y2 = numpy.linspace(-2, 2, 100) \n",
    "AM = lambda z: numpy.array([1 - 5*z/12, -1 -2*z/3, z/12])\n",
    "AB = lambda z: numpy.array([1, -(1+23*z/12), 4*z/3, -5*z/12])\n",
    "continuous = True\n",
    "\n",
    "fig = plt.figure(figsize = (12,12))\n",
    "axes = fig.add_subplot(2,2,1)\n",
    "plot_stability_lmm(AM, x1, y1, axes=axes, title= \"Stability for 2-Step A-M Methods\", continuous = continuous) \n",
    "\n",
    "axes = fig.add_subplot(2,2,2)\n",
    "plot_stability_lmm(AB, x2, y2, axes=axes, title = \"Stability for 3-Step A-B Methods\", continuous= continuous) \n"
   ]
  },
  {
   "cell_type": "markdown",
   "metadata": {
    "deletable": false,
    "nbgrader": {
     "cell_type": "markdown",
     "checksum": "e424adc8b74c1156d0ba25ab8e2dd6dd",
     "grade": true,
     "grade_id": "cell-94b7e383d04df2bc",
     "locked": false,
     "points": 2,
     "schema_version": 3,
     "solution": true,
     "task": false
    }
   },
   "source": [
    "The 2 step AM has a larger size of stability. This makes sense when we think about that AM works for more cases than AB as AB is just for zero state while AM works implicitly for much more. "
   ]
  },
  {
   "cell_type": "markdown",
   "metadata": {
    "deletable": false,
    "editable": false,
    "nbgrader": {
     "cell_type": "markdown",
     "checksum": "d75f66b9bafa4438dca6cbfdef283246",
     "grade": false,
     "grade_id": "cell-0ebb7155c15aa67d",
     "locked": true,
     "schema_version": 3,
     "solution": false,
     "task": false
    }
   },
   "source": [
    "**(d)**  [6] In class we demonstrated that the Leap-frog method seemed to be unstable, at least for the examples we showed.  Use your tools for stability analysis of Linear Multi-step methods to analyze the general stability of the Leap Frog method and plot its stability diagram. In particular, comment on the case we showed in class for $\\lambda$ real and negative."
   ]
  },
  {
   "cell_type": "markdown",
   "metadata": {
    "deletable": false,
    "nbgrader": {
     "cell_type": "markdown",
     "checksum": "74fd2490f5284e224c0208d375df8b63",
     "grade": true,
     "grade_id": "cell-9b23a269401801a6",
     "locked": false,
     "points": 4,
     "schema_version": 3,
     "solution": true,
     "task": false
    }
   },
   "source": [
    "As you can see below, there is no good range. This is never stable and that is why in class we showed it was unstable regardless of the $\\lambda$ values being real, negative, etc. This follows what we saw in class where it lacks stability. \n",
    "$$U_{n+2} = U_n + 2 \\Delta t f(t_{n+1}, U_{n+1})$$\n",
    "\n",
    "Since $z = \\lambda\\Delta t$, we get $$ -U_{n+2} + U_n + 2 z U_{n+1} = 0$$\n",
    "\n",
    "And since $U_n=\\xi^n$, we get $$ \\pi(\\xi,z) = \\xi^2 - 2z\\xi - 1$$"
   ]
  },
  {
   "cell_type": "code",
   "execution_count": 39,
   "metadata": {
    "deletable": false,
    "nbgrader": {
     "cell_type": "code",
     "checksum": "adbbc438ac01b509922ec90acbb94b9b",
     "grade": true,
     "grade_id": "cell-de8ac5dc46de0a80",
     "locked": false,
     "points": 2,
     "schema_version": 3,
     "solution": true,
     "task": false
    }
   },
   "outputs": [
    {
     "name": "stderr",
     "output_type": "stream",
     "text": [
      "<ipython-input-31-2934ec085f66>:24: UserWarning: No contour levels were found within the data range.\n",
      "  axes.contour(X, Y, C, 'k', levels=[1.0])\n"
     ]
    },
    {
     "data": {
      "image/png": "[encoded data removed]",
      "text/plain": [
       "<Figure size 864x864 with 2 Axes>"
      ]
     },
     "metadata": {
      "needs_background": "light"
     },
     "output_type": "display_data"
    }
   ],
   "source": [
    "x1 = numpy.linspace(-1, 1, 100)\n",
    "y1 = numpy.linspace(-1, 1, 100) \n",
    "\n",
    "LF = lambda z: numpy.array([1, -2*z, -1])\n",
    "continuous = True \n",
    "\n",
    "fig = plt.figure(figsize = (12,12))\n",
    "axes = fig.add_subplot(2, 2, 1)\n",
    "plot_stability_lmm(LF, x1, y1, axes = axes, title = \"Stability of Leap Frog Method\", continuous = continuous)\n",
    "\n",
    "    \n",
    "\n"
   ]
  },
  {
   "cell_type": "code",
   "execution_count": 64,
   "metadata": {},
   "outputs": [
    {
     "ename": "SyntaxError",
     "evalue": "invalid syntax (<ipython-input-64-d17674eb7707>, line 1)",
     "output_type": "error",
     "traceback": [
      "\u001b[0;36m  File \u001b[0;32m\"<ipython-input-64-d17674eb7707>\"\u001b[0;36m, line \u001b[0;32m1\u001b[0m\n\u001b[0;31m    $$U_{n+2} = U_n + 2 \\Delta t f(t_{n+1}, U_{n+1})$$\u001b[0m\n\u001b[0m    ^\u001b[0m\n\u001b[0;31mSyntaxError\u001b[0m\u001b[0;31m:\u001b[0m invalid syntax\n"
     ]
    }
   ],
   "source": []
  },
  {
   "cell_type": "code",
   "execution_count": null,
   "metadata": {},
   "outputs": [],
   "source": []
  }
 ],
 "metadata": {
  "kernelspec": {
   "display_name": "Python 3",
   "language": "python",
   "name": "python3"
  },
  "language_info": {
   "codemirror_mode": {
    "name": "ipython",
    "version": 3
   },
   "file_extension": ".py",
   "mimetype": "text/x-python",
   "name": "python",
   "nbconvert_exporter": "python",
   "pygments_lexer": "ipython3",
   "version": "3.8.8"
  },
  "latex_envs": {
   "bibliofile": "biblio.bib",
   "cite_by": "apalike",
   "current_citInitial": 1,
   "eqLabelWithNumbers": true,
   "eqNumInitial": 0
  }
 },
 "nbformat": 4,
 "nbformat_minor": 2
}
